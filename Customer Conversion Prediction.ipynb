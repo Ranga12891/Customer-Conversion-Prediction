{
 "cells": [
  {
   "cell_type": "markdown",
   "id": "17bfb9a6",
   "metadata": {},
   "source": [
    "# Importing Packages"
   ]
  },
  {
   "cell_type": "code",
   "execution_count": 1,
   "id": "1b7f4a4a",
   "metadata": {},
   "outputs": [],
   "source": [
    "import pandas as pd\n",
    "import numpy as np\n",
    "import matplotlib.pyplot as plt"
   ]
  },
  {
   "cell_type": "code",
   "execution_count": 2,
   "id": "a95369d5",
   "metadata": {},
   "outputs": [],
   "source": [
    "# lOADING THE DATASET\n",
    "df = pd.read_csv(\"C:\\Ranga Folder\\EDU\\Data Analytics\\GUVI\\Final Project\\Customer Conversion Prediction\\Customer Conversion Prediction.csv\")"
   ]
  },
  {
   "cell_type": "code",
   "execution_count": 3,
   "id": "393e28d9",
   "metadata": {
    "scrolled": false
   },
   "outputs": [
    {
     "data": {
      "text/html": [
       "<div>\n",
       "<style scoped>\n",
       "    .dataframe tbody tr th:only-of-type {\n",
       "        vertical-align: middle;\n",
       "    }\n",
       "\n",
       "    .dataframe tbody tr th {\n",
       "        vertical-align: top;\n",
       "    }\n",
       "\n",
       "    .dataframe thead th {\n",
       "        text-align: right;\n",
       "    }\n",
       "</style>\n",
       "<table border=\"1\" class=\"dataframe\">\n",
       "  <thead>\n",
       "    <tr style=\"text-align: right;\">\n",
       "      <th></th>\n",
       "      <th>age</th>\n",
       "      <th>job</th>\n",
       "      <th>marital</th>\n",
       "      <th>education_qual</th>\n",
       "      <th>call_type</th>\n",
       "      <th>day</th>\n",
       "      <th>mon</th>\n",
       "      <th>dur</th>\n",
       "      <th>num_calls</th>\n",
       "      <th>prev_outcome</th>\n",
       "      <th>y</th>\n",
       "    </tr>\n",
       "  </thead>\n",
       "  <tbody>\n",
       "    <tr>\n",
       "      <th>0</th>\n",
       "      <td>58</td>\n",
       "      <td>management</td>\n",
       "      <td>married</td>\n",
       "      <td>tertiary</td>\n",
       "      <td>unknown</td>\n",
       "      <td>5</td>\n",
       "      <td>may</td>\n",
       "      <td>261</td>\n",
       "      <td>1</td>\n",
       "      <td>unknown</td>\n",
       "      <td>no</td>\n",
       "    </tr>\n",
       "    <tr>\n",
       "      <th>1</th>\n",
       "      <td>44</td>\n",
       "      <td>technician</td>\n",
       "      <td>single</td>\n",
       "      <td>secondary</td>\n",
       "      <td>unknown</td>\n",
       "      <td>5</td>\n",
       "      <td>may</td>\n",
       "      <td>151</td>\n",
       "      <td>1</td>\n",
       "      <td>unknown</td>\n",
       "      <td>no</td>\n",
       "    </tr>\n",
       "    <tr>\n",
       "      <th>2</th>\n",
       "      <td>33</td>\n",
       "      <td>entrepreneur</td>\n",
       "      <td>married</td>\n",
       "      <td>secondary</td>\n",
       "      <td>unknown</td>\n",
       "      <td>5</td>\n",
       "      <td>may</td>\n",
       "      <td>76</td>\n",
       "      <td>1</td>\n",
       "      <td>unknown</td>\n",
       "      <td>no</td>\n",
       "    </tr>\n",
       "    <tr>\n",
       "      <th>3</th>\n",
       "      <td>47</td>\n",
       "      <td>blue-collar</td>\n",
       "      <td>married</td>\n",
       "      <td>unknown</td>\n",
       "      <td>unknown</td>\n",
       "      <td>5</td>\n",
       "      <td>may</td>\n",
       "      <td>92</td>\n",
       "      <td>1</td>\n",
       "      <td>unknown</td>\n",
       "      <td>no</td>\n",
       "    </tr>\n",
       "    <tr>\n",
       "      <th>4</th>\n",
       "      <td>33</td>\n",
       "      <td>unknown</td>\n",
       "      <td>single</td>\n",
       "      <td>unknown</td>\n",
       "      <td>unknown</td>\n",
       "      <td>5</td>\n",
       "      <td>may</td>\n",
       "      <td>198</td>\n",
       "      <td>1</td>\n",
       "      <td>unknown</td>\n",
       "      <td>no</td>\n",
       "    </tr>\n",
       "  </tbody>\n",
       "</table>\n",
       "</div>"
      ],
      "text/plain": [
       "   age           job  marital education_qual call_type  day  mon  dur  \\\n",
       "0   58    management  married       tertiary   unknown    5  may  261   \n",
       "1   44    technician   single      secondary   unknown    5  may  151   \n",
       "2   33  entrepreneur  married      secondary   unknown    5  may   76   \n",
       "3   47   blue-collar  married        unknown   unknown    5  may   92   \n",
       "4   33       unknown   single        unknown   unknown    5  may  198   \n",
       "\n",
       "   num_calls prev_outcome   y  \n",
       "0          1      unknown  no  \n",
       "1          1      unknown  no  \n",
       "2          1      unknown  no  \n",
       "3          1      unknown  no  \n",
       "4          1      unknown  no  "
      ]
     },
     "execution_count": 3,
     "metadata": {},
     "output_type": "execute_result"
    }
   ],
   "source": [
    "df.head(5)"
   ]
  },
  {
   "cell_type": "markdown",
   "id": "4821e489",
   "metadata": {},
   "source": [
    "## Data Cleaning :"
   ]
  },
  {
   "cell_type": "markdown",
   "id": "8420b87f",
   "metadata": {},
   "source": [
    "### 1. Identifying if there is Null values and checking if all the data types are correct"
   ]
  },
  {
   "cell_type": "code",
   "execution_count": 4,
   "id": "812ca79a",
   "metadata": {
    "scrolled": true
   },
   "outputs": [
    {
     "name": "stdout",
     "output_type": "stream",
     "text": [
      "DataFrame Shape: (45211, 11) \n",
      "\n",
      "<class 'pandas.core.frame.DataFrame'>\n",
      "RangeIndex: 45211 entries, 0 to 45210\n",
      "Data columns (total 11 columns):\n",
      " #   Column          Non-Null Count  Dtype \n",
      "---  ------          --------------  ----- \n",
      " 0   age             45211 non-null  int64 \n",
      " 1   job             45211 non-null  object\n",
      " 2   marital         45211 non-null  object\n",
      " 3   education_qual  45211 non-null  object\n",
      " 4   call_type       45211 non-null  object\n",
      " 5   day             45211 non-null  int64 \n",
      " 6   mon             45211 non-null  object\n",
      " 7   dur             45211 non-null  int64 \n",
      " 8   num_calls       45211 non-null  int64 \n",
      " 9   prev_outcome    45211 non-null  object\n",
      " 10  y               45211 non-null  object\n",
      "dtypes: int64(4), object(7)\n",
      "memory usage: 3.8+ MB\n"
     ]
    }
   ],
   "source": [
    "print('DataFrame Shape:',df.shape,'\\n')\n",
    "df.info()"
   ]
  },
  {
   "cell_type": "markdown",
   "id": "22ab5937",
   "metadata": {},
   "source": [
    "##### Notes from above output\n",
    "##### 1. From the above output it is clear that there is no Null values but there are some unknown values in the data set\n",
    "##### 2. All the data types of the features and Target are correct except for 'mon' feature. We need to Lable it as Number"
   ]
  },
  {
   "cell_type": "markdown",
   "id": "d54fe1c8",
   "metadata": {},
   "source": [
    "#### 1.1 Correcting the datatype or labeling the month column (Coverting 'mon' feature as number):"
   ]
  },
  {
   "cell_type": "code",
   "execution_count": 5,
   "id": "8c6f3736",
   "metadata": {},
   "outputs": [],
   "source": [
    "mon_unique = df.mon.unique()\n",
    "mon_dict = {'mon':['jan','feb','mar','apr','may','jun','jul','aug','sep','oct','nov','dec'],\n",
    "            'Mon_No':[i for i in range (1,13) ]}\n",
    "mon_dict_df = pd.DataFrame(mon_dict) \n",
    "df = df.merge(mon_dict_df, on='mon')\n",
    "df = df.drop('mon',axis = 1)\n"
   ]
  },
  {
   "cell_type": "code",
   "execution_count": 6,
   "id": "e40cce42",
   "metadata": {},
   "outputs": [
    {
     "data": {
      "text/html": [
       "<div>\n",
       "<style scoped>\n",
       "    .dataframe tbody tr th:only-of-type {\n",
       "        vertical-align: middle;\n",
       "    }\n",
       "\n",
       "    .dataframe tbody tr th {\n",
       "        vertical-align: top;\n",
       "    }\n",
       "\n",
       "    .dataframe thead th {\n",
       "        text-align: right;\n",
       "    }\n",
       "</style>\n",
       "<table border=\"1\" class=\"dataframe\">\n",
       "  <thead>\n",
       "    <tr style=\"text-align: right;\">\n",
       "      <th></th>\n",
       "      <th>age</th>\n",
       "      <th>job</th>\n",
       "      <th>marital</th>\n",
       "      <th>education_qual</th>\n",
       "      <th>call_type</th>\n",
       "      <th>day</th>\n",
       "      <th>dur</th>\n",
       "      <th>num_calls</th>\n",
       "      <th>prev_outcome</th>\n",
       "      <th>y</th>\n",
       "      <th>Mon_No</th>\n",
       "    </tr>\n",
       "  </thead>\n",
       "  <tbody>\n",
       "    <tr>\n",
       "      <th>0</th>\n",
       "      <td>58</td>\n",
       "      <td>management</td>\n",
       "      <td>married</td>\n",
       "      <td>tertiary</td>\n",
       "      <td>unknown</td>\n",
       "      <td>5</td>\n",
       "      <td>261</td>\n",
       "      <td>1</td>\n",
       "      <td>unknown</td>\n",
       "      <td>no</td>\n",
       "      <td>5</td>\n",
       "    </tr>\n",
       "    <tr>\n",
       "      <th>1</th>\n",
       "      <td>44</td>\n",
       "      <td>technician</td>\n",
       "      <td>single</td>\n",
       "      <td>secondary</td>\n",
       "      <td>unknown</td>\n",
       "      <td>5</td>\n",
       "      <td>151</td>\n",
       "      <td>1</td>\n",
       "      <td>unknown</td>\n",
       "      <td>no</td>\n",
       "      <td>5</td>\n",
       "    </tr>\n",
       "    <tr>\n",
       "      <th>2</th>\n",
       "      <td>33</td>\n",
       "      <td>entrepreneur</td>\n",
       "      <td>married</td>\n",
       "      <td>secondary</td>\n",
       "      <td>unknown</td>\n",
       "      <td>5</td>\n",
       "      <td>76</td>\n",
       "      <td>1</td>\n",
       "      <td>unknown</td>\n",
       "      <td>no</td>\n",
       "      <td>5</td>\n",
       "    </tr>\n",
       "    <tr>\n",
       "      <th>3</th>\n",
       "      <td>47</td>\n",
       "      <td>blue-collar</td>\n",
       "      <td>married</td>\n",
       "      <td>unknown</td>\n",
       "      <td>unknown</td>\n",
       "      <td>5</td>\n",
       "      <td>92</td>\n",
       "      <td>1</td>\n",
       "      <td>unknown</td>\n",
       "      <td>no</td>\n",
       "      <td>5</td>\n",
       "    </tr>\n",
       "    <tr>\n",
       "      <th>4</th>\n",
       "      <td>33</td>\n",
       "      <td>unknown</td>\n",
       "      <td>single</td>\n",
       "      <td>unknown</td>\n",
       "      <td>unknown</td>\n",
       "      <td>5</td>\n",
       "      <td>198</td>\n",
       "      <td>1</td>\n",
       "      <td>unknown</td>\n",
       "      <td>no</td>\n",
       "      <td>5</td>\n",
       "    </tr>\n",
       "  </tbody>\n",
       "</table>\n",
       "</div>"
      ],
      "text/plain": [
       "   age           job  marital education_qual call_type  day  dur  num_calls  \\\n",
       "0   58    management  married       tertiary   unknown    5  261          1   \n",
       "1   44    technician   single      secondary   unknown    5  151          1   \n",
       "2   33  entrepreneur  married      secondary   unknown    5   76          1   \n",
       "3   47   blue-collar  married        unknown   unknown    5   92          1   \n",
       "4   33       unknown   single        unknown   unknown    5  198          1   \n",
       "\n",
       "  prev_outcome   y  Mon_No  \n",
       "0      unknown  no       5  \n",
       "1      unknown  no       5  \n",
       "2      unknown  no       5  \n",
       "3      unknown  no       5  \n",
       "4      unknown  no       5  "
      ]
     },
     "execution_count": 6,
     "metadata": {},
     "output_type": "execute_result"
    }
   ],
   "source": [
    "df.head(5)"
   ]
  },
  {
   "cell_type": "code",
   "execution_count": 7,
   "id": "6c13583e",
   "metadata": {},
   "outputs": [],
   "source": [
    "# Spliting up the Catagorical & Continious Columns\n",
    "Cat_Col = ['job','marital','education_qual','call_type','prev_outcome','y']\n",
    "Cont_Col = ['age','day','Mon_No','num_calls','dur']\n",
    "Cat_Col_DF = df[Cat_Col]\n",
    "Cont_Col_DF = df[Cont_Col]\n"
   ]
  },
  {
   "cell_type": "markdown",
   "id": "34d249a5",
   "metadata": {},
   "source": [
    "### 2.Outliers Correction:"
   ]
  },
  {
   "cell_type": "code",
   "execution_count": 8,
   "id": "c1b73f8c",
   "metadata": {},
   "outputs": [
    {
     "data": {
      "text/html": [
       "<div>\n",
       "<style scoped>\n",
       "    .dataframe tbody tr th:only-of-type {\n",
       "        vertical-align: middle;\n",
       "    }\n",
       "\n",
       "    .dataframe tbody tr th {\n",
       "        vertical-align: top;\n",
       "    }\n",
       "\n",
       "    .dataframe thead th {\n",
       "        text-align: right;\n",
       "    }\n",
       "</style>\n",
       "<table border=\"1\" class=\"dataframe\">\n",
       "  <thead>\n",
       "    <tr style=\"text-align: right;\">\n",
       "      <th></th>\n",
       "      <th>age</th>\n",
       "      <th>day</th>\n",
       "      <th>Mon_No</th>\n",
       "      <th>num_calls</th>\n",
       "      <th>dur</th>\n",
       "    </tr>\n",
       "  </thead>\n",
       "  <tbody>\n",
       "    <tr>\n",
       "      <th>count</th>\n",
       "      <td>45211.000000</td>\n",
       "      <td>45211.000000</td>\n",
       "      <td>45211.000000</td>\n",
       "      <td>45211.000000</td>\n",
       "      <td>45211.000000</td>\n",
       "    </tr>\n",
       "    <tr>\n",
       "      <th>mean</th>\n",
       "      <td>40.936210</td>\n",
       "      <td>15.806419</td>\n",
       "      <td>6.144655</td>\n",
       "      <td>2.763841</td>\n",
       "      <td>258.163080</td>\n",
       "    </tr>\n",
       "    <tr>\n",
       "      <th>std</th>\n",
       "      <td>10.618762</td>\n",
       "      <td>8.322476</td>\n",
       "      <td>2.408034</td>\n",
       "      <td>3.098021</td>\n",
       "      <td>257.527812</td>\n",
       "    </tr>\n",
       "    <tr>\n",
       "      <th>min</th>\n",
       "      <td>18.000000</td>\n",
       "      <td>1.000000</td>\n",
       "      <td>1.000000</td>\n",
       "      <td>1.000000</td>\n",
       "      <td>0.000000</td>\n",
       "    </tr>\n",
       "    <tr>\n",
       "      <th>25%</th>\n",
       "      <td>33.000000</td>\n",
       "      <td>8.000000</td>\n",
       "      <td>5.000000</td>\n",
       "      <td>1.000000</td>\n",
       "      <td>103.000000</td>\n",
       "    </tr>\n",
       "    <tr>\n",
       "      <th>50%</th>\n",
       "      <td>39.000000</td>\n",
       "      <td>16.000000</td>\n",
       "      <td>6.000000</td>\n",
       "      <td>2.000000</td>\n",
       "      <td>180.000000</td>\n",
       "    </tr>\n",
       "    <tr>\n",
       "      <th>75%</th>\n",
       "      <td>48.000000</td>\n",
       "      <td>21.000000</td>\n",
       "      <td>8.000000</td>\n",
       "      <td>3.000000</td>\n",
       "      <td>319.000000</td>\n",
       "    </tr>\n",
       "    <tr>\n",
       "      <th>max</th>\n",
       "      <td>95.000000</td>\n",
       "      <td>31.000000</td>\n",
       "      <td>12.000000</td>\n",
       "      <td>63.000000</td>\n",
       "      <td>4918.000000</td>\n",
       "    </tr>\n",
       "  </tbody>\n",
       "</table>\n",
       "</div>"
      ],
      "text/plain": [
       "                age           day        Mon_No     num_calls           dur\n",
       "count  45211.000000  45211.000000  45211.000000  45211.000000  45211.000000\n",
       "mean      40.936210     15.806419      6.144655      2.763841    258.163080\n",
       "std       10.618762      8.322476      2.408034      3.098021    257.527812\n",
       "min       18.000000      1.000000      1.000000      1.000000      0.000000\n",
       "25%       33.000000      8.000000      5.000000      1.000000    103.000000\n",
       "50%       39.000000     16.000000      6.000000      2.000000    180.000000\n",
       "75%       48.000000     21.000000      8.000000      3.000000    319.000000\n",
       "max       95.000000     31.000000     12.000000     63.000000   4918.000000"
      ]
     },
     "execution_count": 8,
     "metadata": {},
     "output_type": "execute_result"
    }
   ],
   "source": [
    "Cont_Col_DF.describe()"
   ]
  },
  {
   "cell_type": "markdown",
   "id": "0245e3f3",
   "metadata": {},
   "source": [
    "##### There are outliers in the dataset in \" age, num_calls and dur\"  that needs to be treated"
   ]
  },
  {
   "cell_type": "code",
   "execution_count": 9,
   "id": "a5b58f28",
   "metadata": {},
   "outputs": [
    {
     "data": {
      "text/plain": [
       "48.0"
      ]
     },
     "execution_count": 9,
     "metadata": {},
     "output_type": "execute_result"
    }
   ],
   "source": [
    "Cont_Col_DF['age'].quantile(.75)"
   ]
  },
  {
   "cell_type": "code",
   "execution_count": 10,
   "id": "36c632e0",
   "metadata": {
    "scrolled": true
   },
   "outputs": [
    {
     "data": {
      "text/html": [
       "<div>\n",
       "<style scoped>\n",
       "    .dataframe tbody tr th:only-of-type {\n",
       "        vertical-align: middle;\n",
       "    }\n",
       "\n",
       "    .dataframe tbody tr th {\n",
       "        vertical-align: top;\n",
       "    }\n",
       "\n",
       "    .dataframe thead th {\n",
       "        text-align: right;\n",
       "    }\n",
       "</style>\n",
       "<table border=\"1\" class=\"dataframe\">\n",
       "  <thead>\n",
       "    <tr style=\"text-align: right;\">\n",
       "      <th></th>\n",
       "      <th>Features</th>\n",
       "      <th>Min</th>\n",
       "      <th>Max</th>\n",
       "      <th>Q1</th>\n",
       "      <th>Q3</th>\n",
       "      <th>mean</th>\n",
       "      <th>median</th>\n",
       "      <th>IQR</th>\n",
       "      <th>Lower_Fence</th>\n",
       "      <th>Upper_Fence</th>\n",
       "    </tr>\n",
       "  </thead>\n",
       "  <tbody>\n",
       "    <tr>\n",
       "      <th>0</th>\n",
       "      <td>age</td>\n",
       "      <td>18</td>\n",
       "      <td>95</td>\n",
       "      <td>33.0</td>\n",
       "      <td>48.0</td>\n",
       "      <td>40.936210</td>\n",
       "      <td>39.0</td>\n",
       "      <td>15.0</td>\n",
       "      <td>10.5</td>\n",
       "      <td>70.5</td>\n",
       "    </tr>\n",
       "    <tr>\n",
       "      <th>1</th>\n",
       "      <td>num_calls</td>\n",
       "      <td>1</td>\n",
       "      <td>63</td>\n",
       "      <td>1.0</td>\n",
       "      <td>3.0</td>\n",
       "      <td>2.763841</td>\n",
       "      <td>2.0</td>\n",
       "      <td>2.0</td>\n",
       "      <td>-2.0</td>\n",
       "      <td>6.0</td>\n",
       "    </tr>\n",
       "    <tr>\n",
       "      <th>2</th>\n",
       "      <td>dur</td>\n",
       "      <td>0</td>\n",
       "      <td>4918</td>\n",
       "      <td>103.0</td>\n",
       "      <td>319.0</td>\n",
       "      <td>258.163080</td>\n",
       "      <td>180.0</td>\n",
       "      <td>216.0</td>\n",
       "      <td>-221.0</td>\n",
       "      <td>643.0</td>\n",
       "    </tr>\n",
       "  </tbody>\n",
       "</table>\n",
       "</div>"
      ],
      "text/plain": [
       "    Features  Min   Max     Q1     Q3        mean  median    IQR  Lower_Fence  \\\n",
       "0        age   18    95   33.0   48.0   40.936210    39.0   15.0         10.5   \n",
       "1  num_calls    1    63    1.0    3.0    2.763841     2.0    2.0         -2.0   \n",
       "2        dur    0  4918  103.0  319.0  258.163080   180.0  216.0       -221.0   \n",
       "\n",
       "   Upper_Fence  \n",
       "0         70.5  \n",
       "1          6.0  \n",
       "2        643.0  "
      ]
     },
     "execution_count": 10,
     "metadata": {},
     "output_type": "execute_result"
    }
   ],
   "source": [
    "Ftrs = ['age','num_calls','dur']\n",
    "Outliers_Dic = {'Features':Ftrs,'Min':[ df[i].min() for i in Ftrs],\n",
    "               'Max':[df[i].max() for i in Ftrs],'Q1' : [df[i].quantile(.25) for i in Ftrs  ],\n",
    "               'Q3' : [df[i].quantile(.75) for i in Ftrs  ],\n",
    "               'mean':[df[i].mean() for i in Ftrs], 'median':[df[i].median() for i in Ftrs] }\n",
    "#print(Outliers_Dic)\n",
    "Outliers_DF = pd.DataFrame(Outliers_Dic)\n",
    "Outliers_DF['IQR'] = Outliers_DF['Q3'] - Outliers_DF['Q1']\n",
    "Outliers_DF['Lower_Fence'] = Outliers_DF['Q1'] - (1.5 *  (Outliers_DF['IQR']))\n",
    "Outliers_DF['Upper_Fence'] = Outliers_DF['Q3'] + (1.5 *  (Outliers_DF['IQR']))\n",
    "Outliers_DF"
   ]
  },
  {
   "cell_type": "code",
   "execution_count": 11,
   "id": "1572bf09",
   "metadata": {
    "scrolled": false
   },
   "outputs": [
    {
     "name": "stderr",
     "output_type": "stream",
     "text": [
      "C:\\Users\\ranga\\AppData\\Local\\Temp\\ipykernel_20048\\3622329250.py:5: SettingWithCopyWarning: \n",
      "A value is trying to be set on a copy of a slice from a DataFrame\n",
      "\n",
      "See the caveats in the documentation: https://pandas.pydata.org/pandas-docs/stable/user_guide/indexing.html#returning-a-view-versus-a-copy\n",
      "  df.age[df['age'] > 80] = 80\n"
     ]
    },
    {
     "data": {
      "text/html": [
       "<div>\n",
       "<style scoped>\n",
       "    .dataframe tbody tr th:only-of-type {\n",
       "        vertical-align: middle;\n",
       "    }\n",
       "\n",
       "    .dataframe tbody tr th {\n",
       "        vertical-align: top;\n",
       "    }\n",
       "\n",
       "    .dataframe thead th {\n",
       "        text-align: right;\n",
       "    }\n",
       "</style>\n",
       "<table border=\"1\" class=\"dataframe\">\n",
       "  <thead>\n",
       "    <tr style=\"text-align: right;\">\n",
       "      <th></th>\n",
       "      <th>age</th>\n",
       "      <th>job</th>\n",
       "      <th>marital</th>\n",
       "      <th>education_qual</th>\n",
       "      <th>call_type</th>\n",
       "      <th>day</th>\n",
       "      <th>dur</th>\n",
       "      <th>num_calls</th>\n",
       "      <th>prev_outcome</th>\n",
       "      <th>y</th>\n",
       "      <th>Mon_No</th>\n",
       "    </tr>\n",
       "  </thead>\n",
       "  <tbody>\n",
       "  </tbody>\n",
       "</table>\n",
       "</div>"
      ],
      "text/plain": [
       "Empty DataFrame\n",
       "Columns: [age, job, marital, education_qual, call_type, day, dur, num_calls, prev_outcome, y, Mon_No]\n",
       "Index: []"
      ]
     },
     "execution_count": 11,
     "metadata": {},
     "output_type": "execute_result"
    }
   ],
   "source": [
    "# Treating Age Outliers\n",
    "\n",
    "df[df['age'] == 80]\n",
    "# Treating the age greater than=80\n",
    "df.age[df['age'] > 80] = 80\n",
    "df[df['age'] > 80].head(5)"
   ]
  },
  {
   "cell_type": "code",
   "execution_count": 12,
   "id": "ef359543",
   "metadata": {
    "scrolled": true
   },
   "outputs": [
    {
     "name": "stderr",
     "output_type": "stream",
     "text": [
      "C:\\Users\\ranga\\AppData\\Local\\Temp\\ipykernel_20048\\3938811302.py:4: SettingWithCopyWarning: \n",
      "A value is trying to be set on a copy of a slice from a DataFrame\n",
      "\n",
      "See the caveats in the documentation: https://pandas.pydata.org/pandas-docs/stable/user_guide/indexing.html#returning-a-view-versus-a-copy\n",
      "  df['dur'].loc[df['dur']>1000] = 1000\n"
     ]
    },
    {
     "data": {
      "text/plain": [
       "Series([], Name: dur, dtype: int64)"
      ]
     },
     "execution_count": 12,
     "metadata": {},
     "output_type": "execute_result"
    }
   ],
   "source": [
    "# Treating 'dur' Outliers\n",
    "\n",
    "df[df['dur'] > 1000].shape\n",
    "df['dur'].loc[df['dur']>1000] = 1000\n",
    "df['dur'].loc[df['dur']>1000]"
   ]
  },
  {
   "cell_type": "code",
   "execution_count": 13,
   "id": "ae2b6a83",
   "metadata": {},
   "outputs": [
    {
     "name": "stderr",
     "output_type": "stream",
     "text": [
      "C:\\Users\\ranga\\AppData\\Local\\Temp\\ipykernel_20048\\4039941400.py:5: SettingWithCopyWarning: \n",
      "A value is trying to be set on a copy of a slice from a DataFrame\n",
      "\n",
      "See the caveats in the documentation: https://pandas.pydata.org/pandas-docs/stable/user_guide/indexing.html#returning-a-view-versus-a-copy\n",
      "  df['num_calls'].loc[df['num_calls']>10] = 10\n"
     ]
    },
    {
     "data": {
      "text/plain": [
       "Series([], Name: num_calls, dtype: int64)"
      ]
     },
     "execution_count": 13,
     "metadata": {},
     "output_type": "execute_result"
    }
   ],
   "source": [
    "# Treating 'num_calls' Outliers\n",
    "\n",
    "\n",
    "df[df['num_calls'] > 10].shape\n",
    "df['num_calls'].loc[df['num_calls']>10] = 10\n",
    "df['num_calls'].loc[df['num_calls']>10].head(5)"
   ]
  },
  {
   "cell_type": "markdown",
   "id": "d63e157c",
   "metadata": {},
   "source": [
    "### 3. Finding No of Unknowns in each Feature & Treating them"
   ]
  },
  {
   "cell_type": "code",
   "execution_count": 14,
   "id": "d8712ec5",
   "metadata": {},
   "outputs": [],
   "source": [
    "R_Cnt = df.shape[0]\n",
    "\n",
    "Unknowns = []\n",
    "Unknown_ratio = []\n",
    "X_Dict = {'Feature':df.columns,'Unknown_Count':Unknowns,'% Missing Data':Unknown_ratio}\n",
    "\n",
    "\n",
    "for i in df.columns:\n",
    "    UnK = df[i].loc[df[i]=='unknown'].count()\n",
    "    Ratio = round(UnK*100/R_Cnt,2)\n",
    "    Unknowns.append(UnK)\n",
    "    Unknown_ratio.append(Ratio)"
   ]
  },
  {
   "cell_type": "code",
   "execution_count": 15,
   "id": "c6c78e4c",
   "metadata": {},
   "outputs": [
    {
     "data": {
      "text/html": [
       "<div>\n",
       "<style scoped>\n",
       "    .dataframe tbody tr th:only-of-type {\n",
       "        vertical-align: middle;\n",
       "    }\n",
       "\n",
       "    .dataframe tbody tr th {\n",
       "        vertical-align: top;\n",
       "    }\n",
       "\n",
       "    .dataframe thead th {\n",
       "        text-align: right;\n",
       "    }\n",
       "</style>\n",
       "<table border=\"1\" class=\"dataframe\">\n",
       "  <thead>\n",
       "    <tr style=\"text-align: right;\">\n",
       "      <th></th>\n",
       "      <th>Feature</th>\n",
       "      <th>Unknown_Count</th>\n",
       "      <th>% Missing Data</th>\n",
       "    </tr>\n",
       "  </thead>\n",
       "  <tbody>\n",
       "    <tr>\n",
       "      <th>0</th>\n",
       "      <td>age</td>\n",
       "      <td>0</td>\n",
       "      <td>0.00</td>\n",
       "    </tr>\n",
       "    <tr>\n",
       "      <th>1</th>\n",
       "      <td>job</td>\n",
       "      <td>288</td>\n",
       "      <td>0.64</td>\n",
       "    </tr>\n",
       "    <tr>\n",
       "      <th>2</th>\n",
       "      <td>marital</td>\n",
       "      <td>0</td>\n",
       "      <td>0.00</td>\n",
       "    </tr>\n",
       "    <tr>\n",
       "      <th>3</th>\n",
       "      <td>education_qual</td>\n",
       "      <td>1857</td>\n",
       "      <td>4.11</td>\n",
       "    </tr>\n",
       "    <tr>\n",
       "      <th>4</th>\n",
       "      <td>call_type</td>\n",
       "      <td>13020</td>\n",
       "      <td>28.80</td>\n",
       "    </tr>\n",
       "    <tr>\n",
       "      <th>5</th>\n",
       "      <td>day</td>\n",
       "      <td>0</td>\n",
       "      <td>0.00</td>\n",
       "    </tr>\n",
       "    <tr>\n",
       "      <th>6</th>\n",
       "      <td>dur</td>\n",
       "      <td>0</td>\n",
       "      <td>0.00</td>\n",
       "    </tr>\n",
       "    <tr>\n",
       "      <th>7</th>\n",
       "      <td>num_calls</td>\n",
       "      <td>0</td>\n",
       "      <td>0.00</td>\n",
       "    </tr>\n",
       "    <tr>\n",
       "      <th>8</th>\n",
       "      <td>prev_outcome</td>\n",
       "      <td>36959</td>\n",
       "      <td>81.75</td>\n",
       "    </tr>\n",
       "    <tr>\n",
       "      <th>9</th>\n",
       "      <td>y</td>\n",
       "      <td>0</td>\n",
       "      <td>0.00</td>\n",
       "    </tr>\n",
       "    <tr>\n",
       "      <th>10</th>\n",
       "      <td>Mon_No</td>\n",
       "      <td>0</td>\n",
       "      <td>0.00</td>\n",
       "    </tr>\n",
       "  </tbody>\n",
       "</table>\n",
       "</div>"
      ],
      "text/plain": [
       "           Feature  Unknown_Count  % Missing Data\n",
       "0              age              0            0.00\n",
       "1              job            288            0.64\n",
       "2          marital              0            0.00\n",
       "3   education_qual           1857            4.11\n",
       "4        call_type          13020           28.80\n",
       "5              day              0            0.00\n",
       "6              dur              0            0.00\n",
       "7        num_calls              0            0.00\n",
       "8     prev_outcome          36959           81.75\n",
       "9                y              0            0.00\n",
       "10          Mon_No              0            0.00"
      ]
     },
     "metadata": {},
     "output_type": "display_data"
    }
   ],
   "source": [
    "X_DF = pd.DataFrame(X_Dict)\n",
    "display(X_DF)"
   ]
  },
  {
   "cell_type": "markdown",
   "id": "3b00ee95",
   "metadata": {},
   "source": [
    "#####  There is 81.75 data points are missing in prev_outcome. It cannot filled. so, that feature should be dropped"
   ]
  },
  {
   "cell_type": "code",
   "execution_count": 16,
   "id": "83a0b516",
   "metadata": {
    "scrolled": true
   },
   "outputs": [
    {
     "data": {
      "text/html": [
       "<div>\n",
       "<style scoped>\n",
       "    .dataframe tbody tr th:only-of-type {\n",
       "        vertical-align: middle;\n",
       "    }\n",
       "\n",
       "    .dataframe tbody tr th {\n",
       "        vertical-align: top;\n",
       "    }\n",
       "\n",
       "    .dataframe thead th {\n",
       "        text-align: right;\n",
       "    }\n",
       "</style>\n",
       "<table border=\"1\" class=\"dataframe\">\n",
       "  <thead>\n",
       "    <tr style=\"text-align: right;\">\n",
       "      <th></th>\n",
       "      <th>age</th>\n",
       "      <th>job</th>\n",
       "      <th>marital</th>\n",
       "      <th>education_qual</th>\n",
       "      <th>call_type</th>\n",
       "      <th>day</th>\n",
       "      <th>dur</th>\n",
       "      <th>num_calls</th>\n",
       "      <th>y</th>\n",
       "      <th>Mon_No</th>\n",
       "    </tr>\n",
       "  </thead>\n",
       "  <tbody>\n",
       "    <tr>\n",
       "      <th>0</th>\n",
       "      <td>58</td>\n",
       "      <td>management</td>\n",
       "      <td>married</td>\n",
       "      <td>tertiary</td>\n",
       "      <td>unknown</td>\n",
       "      <td>5</td>\n",
       "      <td>261</td>\n",
       "      <td>1</td>\n",
       "      <td>no</td>\n",
       "      <td>5</td>\n",
       "    </tr>\n",
       "    <tr>\n",
       "      <th>1</th>\n",
       "      <td>44</td>\n",
       "      <td>technician</td>\n",
       "      <td>single</td>\n",
       "      <td>secondary</td>\n",
       "      <td>unknown</td>\n",
       "      <td>5</td>\n",
       "      <td>151</td>\n",
       "      <td>1</td>\n",
       "      <td>no</td>\n",
       "      <td>5</td>\n",
       "    </tr>\n",
       "    <tr>\n",
       "      <th>2</th>\n",
       "      <td>33</td>\n",
       "      <td>entrepreneur</td>\n",
       "      <td>married</td>\n",
       "      <td>secondary</td>\n",
       "      <td>unknown</td>\n",
       "      <td>5</td>\n",
       "      <td>76</td>\n",
       "      <td>1</td>\n",
       "      <td>no</td>\n",
       "      <td>5</td>\n",
       "    </tr>\n",
       "    <tr>\n",
       "      <th>3</th>\n",
       "      <td>47</td>\n",
       "      <td>blue-collar</td>\n",
       "      <td>married</td>\n",
       "      <td>unknown</td>\n",
       "      <td>unknown</td>\n",
       "      <td>5</td>\n",
       "      <td>92</td>\n",
       "      <td>1</td>\n",
       "      <td>no</td>\n",
       "      <td>5</td>\n",
       "    </tr>\n",
       "    <tr>\n",
       "      <th>4</th>\n",
       "      <td>33</td>\n",
       "      <td>unknown</td>\n",
       "      <td>single</td>\n",
       "      <td>unknown</td>\n",
       "      <td>unknown</td>\n",
       "      <td>5</td>\n",
       "      <td>198</td>\n",
       "      <td>1</td>\n",
       "      <td>no</td>\n",
       "      <td>5</td>\n",
       "    </tr>\n",
       "  </tbody>\n",
       "</table>\n",
       "</div>"
      ],
      "text/plain": [
       "   age           job  marital education_qual call_type  day  dur  num_calls  \\\n",
       "0   58    management  married       tertiary   unknown    5  261          1   \n",
       "1   44    technician   single      secondary   unknown    5  151          1   \n",
       "2   33  entrepreneur  married      secondary   unknown    5   76          1   \n",
       "3   47   blue-collar  married        unknown   unknown    5   92          1   \n",
       "4   33       unknown   single        unknown   unknown    5  198          1   \n",
       "\n",
       "    y  Mon_No  \n",
       "0  no       5  \n",
       "1  no       5  \n",
       "2  no       5  \n",
       "3  no       5  \n",
       "4  no       5  "
      ]
     },
     "execution_count": 16,
     "metadata": {},
     "output_type": "execute_result"
    }
   ],
   "source": [
    "# Dropping the prev_outcome\n",
    "df = df.drop('prev_outcome',axis = 1)\n",
    "df.head(5)"
   ]
  },
  {
   "cell_type": "code",
   "execution_count": 17,
   "id": "dd72310d",
   "metadata": {},
   "outputs": [
    {
     "name": "stdout",
     "output_type": "stream",
     "text": [
      "['unknown' 'cellular' 'telephone']\n",
      "Telephone: 2906\n",
      "cellular: 29285\n"
     ]
    }
   ],
   "source": [
    "# Treating the call_type Feature\n",
    "\n",
    "print (df.call_type.unique())\n",
    "print('Telephone:',df[df['call_type'] == 'telephone'].shape[0])\n",
    "print('cellular:',df[df['call_type'] == 'cellular'].shape[0])"
   ]
  },
  {
   "cell_type": "code",
   "execution_count": 18,
   "id": "36c47dfb",
   "metadata": {
    "scrolled": true
   },
   "outputs": [
    {
     "name": "stderr",
     "output_type": "stream",
     "text": [
      "C:\\Users\\ranga\\AppData\\Local\\Temp\\ipykernel_20048\\4051845234.py:3: SettingWithCopyWarning: \n",
      "A value is trying to be set on a copy of a slice from a DataFrame\n",
      "\n",
      "See the caveats in the documentation: https://pandas.pydata.org/pandas-docs/stable/user_guide/indexing.html#returning-a-view-versus-a-copy\n",
      "  df['call_type'].loc[df['call_type'] == 'unknown'] = 'cellular'\n"
     ]
    }
   ],
   "source": [
    "# Most of the calls are made to cellular. So filling the unknown using mode\n",
    "\n",
    "df['call_type'].loc[df['call_type'] == 'unknown'] = 'cellular'"
   ]
  },
  {
   "cell_type": "code",
   "execution_count": 19,
   "id": "4f600c05",
   "metadata": {},
   "outputs": [
    {
     "name": "stdout",
     "output_type": "stream",
     "text": [
      "['tertiary' 'secondary' 'unknown' 'primary']\n",
      "primary: 6851\n",
      "secondary: 23202\n",
      "tertiary: 13301\n"
     ]
    }
   ],
   "source": [
    "# Treating the education_qual Feature\n",
    "print (df.education_qual.unique())\n",
    "print('primary:',df[df['education_qual'] == 'primary'].shape[0])\n",
    "print('secondary:',df[df['education_qual'] == 'secondary'].shape[0])\n",
    "print('tertiary:',df[df['education_qual'] == 'tertiary'].shape[0])"
   ]
  },
  {
   "cell_type": "code",
   "execution_count": 20,
   "id": "ba0a23bd",
   "metadata": {},
   "outputs": [
    {
     "data": {
      "text/html": [
       "<div>\n",
       "<style scoped>\n",
       "    .dataframe tbody tr th:only-of-type {\n",
       "        vertical-align: middle;\n",
       "    }\n",
       "\n",
       "    .dataframe tbody tr th {\n",
       "        vertical-align: top;\n",
       "    }\n",
       "\n",
       "    .dataframe thead th {\n",
       "        text-align: right;\n",
       "    }\n",
       "</style>\n",
       "<table border=\"1\" class=\"dataframe\">\n",
       "  <thead>\n",
       "    <tr style=\"text-align: right;\">\n",
       "      <th></th>\n",
       "      <th>Job</th>\n",
       "      <th>edu_mode</th>\n",
       "    </tr>\n",
       "  </thead>\n",
       "  <tbody>\n",
       "    <tr>\n",
       "      <th>0</th>\n",
       "      <td>management</td>\n",
       "      <td>tertiary</td>\n",
       "    </tr>\n",
       "    <tr>\n",
       "      <th>1</th>\n",
       "      <td>technician</td>\n",
       "      <td>secondary</td>\n",
       "    </tr>\n",
       "    <tr>\n",
       "      <th>2</th>\n",
       "      <td>entrepreneur</td>\n",
       "      <td>tertiary</td>\n",
       "    </tr>\n",
       "    <tr>\n",
       "      <th>3</th>\n",
       "      <td>blue-collar</td>\n",
       "      <td>secondary</td>\n",
       "    </tr>\n",
       "    <tr>\n",
       "      <th>4</th>\n",
       "      <td>unknown</td>\n",
       "      <td>unknown</td>\n",
       "    </tr>\n",
       "    <tr>\n",
       "      <th>5</th>\n",
       "      <td>retired</td>\n",
       "      <td>secondary</td>\n",
       "    </tr>\n",
       "    <tr>\n",
       "      <th>6</th>\n",
       "      <td>admin.</td>\n",
       "      <td>secondary</td>\n",
       "    </tr>\n",
       "    <tr>\n",
       "      <th>7</th>\n",
       "      <td>services</td>\n",
       "      <td>secondary</td>\n",
       "    </tr>\n",
       "    <tr>\n",
       "      <th>8</th>\n",
       "      <td>self-employed</td>\n",
       "      <td>tertiary</td>\n",
       "    </tr>\n",
       "    <tr>\n",
       "      <th>9</th>\n",
       "      <td>unemployed</td>\n",
       "      <td>secondary</td>\n",
       "    </tr>\n",
       "    <tr>\n",
       "      <th>10</th>\n",
       "      <td>housemaid</td>\n",
       "      <td>primary</td>\n",
       "    </tr>\n",
       "    <tr>\n",
       "      <th>11</th>\n",
       "      <td>student</td>\n",
       "      <td>secondary</td>\n",
       "    </tr>\n",
       "  </tbody>\n",
       "</table>\n",
       "</div>"
      ],
      "text/plain": [
       "              Job   edu_mode\n",
       "0      management   tertiary\n",
       "1      technician  secondary\n",
       "2    entrepreneur   tertiary\n",
       "3     blue-collar  secondary\n",
       "4         unknown    unknown\n",
       "5         retired  secondary\n",
       "6          admin.  secondary\n",
       "7        services  secondary\n",
       "8   self-employed   tertiary\n",
       "9      unemployed  secondary\n",
       "10      housemaid    primary\n",
       "11        student  secondary"
      ]
     },
     "execution_count": 20,
     "metadata": {},
     "output_type": "execute_result"
    }
   ],
   "source": [
    "# Finding educational_qual mode for each job\n",
    "jobs = [i for i in df.job.unique()]\n",
    "edu_qual_mode = {'Job': [i for i in df.job.unique()],\n",
    "                'edu_mode':[df[(df['job'] == i)].education_qual.mode()[0] for i in jobs]}\n",
    "edu_mode = pd.DataFrame(edu_qual_mode)\n",
    "edu_mode"
   ]
  },
  {
   "cell_type": "code",
   "execution_count": 21,
   "id": "c2920c87",
   "metadata": {},
   "outputs": [
    {
     "name": "stderr",
     "output_type": "stream",
     "text": [
      "C:\\Users\\ranga\\AppData\\Local\\Temp\\ipykernel_20048\\3172004062.py:4: SettingWithCopyWarning: \n",
      "A value is trying to be set on a copy of a slice from a DataFrame\n",
      "\n",
      "See the caveats in the documentation: https://pandas.pydata.org/pandas-docs/stable/user_guide/indexing.html#returning-a-view-versus-a-copy\n",
      "  df['education_qual'].loc[df.education_qual =='unknown'] = df['job'].apply(lambda x: edu_qual_mode['edu_mode'][edu_qual_mode['Job'].index(x)])\n"
     ]
    }
   ],
   "source": [
    "# Filling the unknown edu qual based on the above table\n",
    "\n",
    "x = lambda x: edu_qual_mode['edu_mode'][edu_qual_mode['Job'].index(x)]\n",
    "df['education_qual'].loc[df.education_qual =='unknown'] = df['job'].apply(lambda x: edu_qual_mode['edu_mode'][edu_qual_mode['Job'].index(x)]) "
   ]
  },
  {
   "cell_type": "code",
   "execution_count": 22,
   "id": "28ba5567",
   "metadata": {},
   "outputs": [
    {
     "data": {
      "text/plain": [
       "(127,)"
      ]
     },
     "execution_count": 22,
     "metadata": {},
     "output_type": "execute_result"
    }
   ],
   "source": [
    "df['education_qual'].loc[df.education_qual =='unknown'].shape"
   ]
  },
  {
   "cell_type": "code",
   "execution_count": 23,
   "id": "091c0269",
   "metadata": {},
   "outputs": [
    {
     "name": "stderr",
     "output_type": "stream",
     "text": [
      "C:\\Users\\ranga\\AppData\\Local\\Temp\\ipykernel_20048\\939583469.py:2: SettingWithCopyWarning: \n",
      "A value is trying to be set on a copy of a slice from a DataFrame\n",
      "\n",
      "See the caveats in the documentation: https://pandas.pydata.org/pandas-docs/stable/user_guide/indexing.html#returning-a-view-versus-a-copy\n",
      "  df['education_qual'].loc[df.education_qual =='unknown'] = df['education_qual'].mode()[0]\n"
     ]
    }
   ],
   "source": [
    "# Filling the balance by the std mode\n",
    "df['education_qual'].loc[df.education_qual =='unknown'] = df['education_qual'].mode()[0]"
   ]
  },
  {
   "cell_type": "code",
   "execution_count": 24,
   "id": "a76e546d",
   "metadata": {},
   "outputs": [
    {
     "name": "stdout",
     "output_type": "stream",
     "text": [
      "['management' 'technician' 'entrepreneur' 'blue-collar' 'unknown'\n",
      " 'retired' 'admin.' 'services' 'self-employed' 'unemployed' 'housemaid'\n",
      " 'student']\n",
      "mode of job for age > 60: retired\n"
     ]
    }
   ],
   "source": [
    "# Treating the job Feature\n",
    "print (df.job.unique())\n",
    "print('mode of job for age > 60:' ,df.job[(df.age > 60) ].mode()[0])"
   ]
  },
  {
   "cell_type": "code",
   "execution_count": 25,
   "id": "ad7ddc9e",
   "metadata": {},
   "outputs": [
    {
     "name": "stderr",
     "output_type": "stream",
     "text": [
      "C:\\Users\\ranga\\AppData\\Local\\Temp\\ipykernel_20048\\3586745125.py:2: SettingWithCopyWarning: \n",
      "A value is trying to be set on a copy of a slice from a DataFrame\n",
      "\n",
      "See the caveats in the documentation: https://pandas.pydata.org/pandas-docs/stable/user_guide/indexing.html#returning-a-view-versus-a-copy\n",
      "  df.job[(df.age>60) & (df.job=='unknown')] = 'retired'\n"
     ]
    }
   ],
   "source": [
    "#'Filling the unknowns in job as retired for age > 60'\n",
    "df.job[(df.age>60) & (df.job=='unknown')] = 'retired'"
   ]
  },
  {
   "cell_type": "code",
   "execution_count": 26,
   "id": "c8a1a86c",
   "metadata": {},
   "outputs": [
    {
     "data": {
      "text/plain": [
       "(266,)"
      ]
     },
     "execution_count": 26,
     "metadata": {},
     "output_type": "execute_result"
    }
   ],
   "source": [
    "df.job[(df.job=='unknown')].shape"
   ]
  },
  {
   "cell_type": "code",
   "execution_count": 27,
   "id": "a6218534",
   "metadata": {},
   "outputs": [
    {
     "name": "stdout",
     "output_type": "stream",
     "text": [
      "mode of job for age b/w 18 to 22 : student\n"
     ]
    }
   ],
   "source": [
    "print('mode of job for age b/w 18 to 22 :' ,df.job[(df.age > 17) & (df.age < 23) ].mode()[0])"
   ]
  },
  {
   "cell_type": "code",
   "execution_count": 28,
   "id": "03f81a0c",
   "metadata": {},
   "outputs": [
    {
     "name": "stderr",
     "output_type": "stream",
     "text": [
      "C:\\Users\\ranga\\AppData\\Local\\Temp\\ipykernel_20048\\2729289734.py:2: SettingWithCopyWarning: \n",
      "A value is trying to be set on a copy of a slice from a DataFrame\n",
      "\n",
      "See the caveats in the documentation: https://pandas.pydata.org/pandas-docs/stable/user_guide/indexing.html#returning-a-view-versus-a-copy\n",
      "  df.job[(df.age > 17) & (df.age < 23) & (df.job=='unknown') ] = 'student'\n"
     ]
    },
    {
     "data": {
      "text/plain": [
       "(266,)"
      ]
     },
     "execution_count": 28,
     "metadata": {},
     "output_type": "execute_result"
    }
   ],
   "source": [
    "#'Filling the unknowns in job as student for age > b/w 18 to 22\n",
    "df.job[(df.age > 17) & (df.age < 23) & (df.job=='unknown') ] = 'student'\n",
    "df.job[(df.job=='unknown')].shape"
   ]
  },
  {
   "cell_type": "code",
   "execution_count": 29,
   "id": "2573ab20",
   "metadata": {
    "scrolled": true
   },
   "outputs": [
    {
     "name": "stdout",
     "output_type": "stream",
     "text": [
      "{'edu': ['tertiary', 'secondary', 'primary'], 'Job Mode': ['management', 'blue-collar', 'blue-collar']}\n"
     ]
    },
    {
     "data": {
      "text/html": [
       "<div>\n",
       "<style scoped>\n",
       "    .dataframe tbody tr th:only-of-type {\n",
       "        vertical-align: middle;\n",
       "    }\n",
       "\n",
       "    .dataframe tbody tr th {\n",
       "        vertical-align: top;\n",
       "    }\n",
       "\n",
       "    .dataframe thead th {\n",
       "        text-align: right;\n",
       "    }\n",
       "</style>\n",
       "<table border=\"1\" class=\"dataframe\">\n",
       "  <thead>\n",
       "    <tr style=\"text-align: right;\">\n",
       "      <th></th>\n",
       "      <th>edu</th>\n",
       "      <th>Job Mode</th>\n",
       "    </tr>\n",
       "  </thead>\n",
       "  <tbody>\n",
       "    <tr>\n",
       "      <th>0</th>\n",
       "      <td>tertiary</td>\n",
       "      <td>management</td>\n",
       "    </tr>\n",
       "    <tr>\n",
       "      <th>1</th>\n",
       "      <td>secondary</td>\n",
       "      <td>blue-collar</td>\n",
       "    </tr>\n",
       "    <tr>\n",
       "      <th>2</th>\n",
       "      <td>primary</td>\n",
       "      <td>blue-collar</td>\n",
       "    </tr>\n",
       "  </tbody>\n",
       "</table>\n",
       "</div>"
      ],
      "text/plain": [
       "         edu     Job Mode\n",
       "0   tertiary   management\n",
       "1  secondary  blue-collar\n",
       "2    primary  blue-collar"
      ]
     },
     "execution_count": 29,
     "metadata": {},
     "output_type": "execute_result"
    }
   ],
   "source": [
    "# Finding job mode for each educational_qual\n",
    "edu_qual = [i for i in df.education_qual.unique()]\n",
    "job_mode = {'edu': edu_qual,\n",
    "            'Job Mode':[df[(df['education_qual'] == i)].job.mode()[0] for i in edu_qual]}\n",
    "print(job_mode)\n",
    "job_mode_df = pd.DataFrame(job_mode)\n",
    "job_mode_df"
   ]
  },
  {
   "cell_type": "code",
   "execution_count": 30,
   "id": "234b3835",
   "metadata": {},
   "outputs": [
    {
     "name": "stderr",
     "output_type": "stream",
     "text": [
      "C:\\Users\\ranga\\AppData\\Local\\Temp\\ipykernel_20048\\4111584558.py:4: SettingWithCopyWarning: \n",
      "A value is trying to be set on a copy of a slice from a DataFrame\n",
      "\n",
      "See the caveats in the documentation: https://pandas.pydata.org/pandas-docs/stable/user_guide/indexing.html#returning-a-view-versus-a-copy\n",
      "  df['job'].loc[df.job =='unknown'] = df['education_qual'].apply(lambda x: job_mode['Job Mode'][job_mode['edu'].index(x)])\n"
     ]
    }
   ],
   "source": [
    "# Filling the unknown job based on the above table\n",
    "\n",
    "x = lambda x: job_mode['Job Mode'][job_mode['edu'].index(x)]\n",
    "df['job'].loc[df.job =='unknown'] = df['education_qual'].apply(lambda x: job_mode['Job Mode'][job_mode['edu'].index(x)]) "
   ]
  },
  {
   "cell_type": "code",
   "execution_count": 31,
   "id": "35cd1f92",
   "metadata": {},
   "outputs": [
    {
     "data": {
      "text/plain": [
       "(0,)"
      ]
     },
     "execution_count": 31,
     "metadata": {},
     "output_type": "execute_result"
    }
   ],
   "source": [
    "df.job[(df.job=='unknown')].shape"
   ]
  },
  {
   "cell_type": "markdown",
   "id": "bec8b40a",
   "metadata": {},
   "source": [
    "## Now the Data is cleaned and ready for EDA"
   ]
  },
  {
   "cell_type": "code",
   "execution_count": 32,
   "id": "76fca40f",
   "metadata": {},
   "outputs": [
    {
     "data": {
      "text/html": [
       "<div>\n",
       "<style scoped>\n",
       "    .dataframe tbody tr th:only-of-type {\n",
       "        vertical-align: middle;\n",
       "    }\n",
       "\n",
       "    .dataframe tbody tr th {\n",
       "        vertical-align: top;\n",
       "    }\n",
       "\n",
       "    .dataframe thead th {\n",
       "        text-align: right;\n",
       "    }\n",
       "</style>\n",
       "<table border=\"1\" class=\"dataframe\">\n",
       "  <thead>\n",
       "    <tr style=\"text-align: right;\">\n",
       "      <th></th>\n",
       "      <th>age</th>\n",
       "      <th>job</th>\n",
       "      <th>marital</th>\n",
       "      <th>education_qual</th>\n",
       "      <th>call_type</th>\n",
       "      <th>day</th>\n",
       "      <th>dur</th>\n",
       "      <th>num_calls</th>\n",
       "      <th>y</th>\n",
       "      <th>Mon_No</th>\n",
       "    </tr>\n",
       "  </thead>\n",
       "  <tbody>\n",
       "    <tr>\n",
       "      <th>0</th>\n",
       "      <td>58</td>\n",
       "      <td>management</td>\n",
       "      <td>married</td>\n",
       "      <td>tertiary</td>\n",
       "      <td>cellular</td>\n",
       "      <td>5</td>\n",
       "      <td>261</td>\n",
       "      <td>1</td>\n",
       "      <td>no</td>\n",
       "      <td>5</td>\n",
       "    </tr>\n",
       "    <tr>\n",
       "      <th>1</th>\n",
       "      <td>44</td>\n",
       "      <td>technician</td>\n",
       "      <td>single</td>\n",
       "      <td>secondary</td>\n",
       "      <td>cellular</td>\n",
       "      <td>5</td>\n",
       "      <td>151</td>\n",
       "      <td>1</td>\n",
       "      <td>no</td>\n",
       "      <td>5</td>\n",
       "    </tr>\n",
       "    <tr>\n",
       "      <th>2</th>\n",
       "      <td>33</td>\n",
       "      <td>entrepreneur</td>\n",
       "      <td>married</td>\n",
       "      <td>secondary</td>\n",
       "      <td>cellular</td>\n",
       "      <td>5</td>\n",
       "      <td>76</td>\n",
       "      <td>1</td>\n",
       "      <td>no</td>\n",
       "      <td>5</td>\n",
       "    </tr>\n",
       "    <tr>\n",
       "      <th>3</th>\n",
       "      <td>47</td>\n",
       "      <td>blue-collar</td>\n",
       "      <td>married</td>\n",
       "      <td>secondary</td>\n",
       "      <td>cellular</td>\n",
       "      <td>5</td>\n",
       "      <td>92</td>\n",
       "      <td>1</td>\n",
       "      <td>no</td>\n",
       "      <td>5</td>\n",
       "    </tr>\n",
       "    <tr>\n",
       "      <th>4</th>\n",
       "      <td>33</td>\n",
       "      <td>blue-collar</td>\n",
       "      <td>single</td>\n",
       "      <td>secondary</td>\n",
       "      <td>cellular</td>\n",
       "      <td>5</td>\n",
       "      <td>198</td>\n",
       "      <td>1</td>\n",
       "      <td>no</td>\n",
       "      <td>5</td>\n",
       "    </tr>\n",
       "  </tbody>\n",
       "</table>\n",
       "</div>"
      ],
      "text/plain": [
       "   age           job  marital education_qual call_type  day  dur  num_calls  \\\n",
       "0   58    management  married       tertiary  cellular    5  261          1   \n",
       "1   44    technician   single      secondary  cellular    5  151          1   \n",
       "2   33  entrepreneur  married      secondary  cellular    5   76          1   \n",
       "3   47   blue-collar  married      secondary  cellular    5   92          1   \n",
       "4   33   blue-collar   single      secondary  cellular    5  198          1   \n",
       "\n",
       "    y  Mon_No  \n",
       "0  no       5  \n",
       "1  no       5  \n",
       "2  no       5  \n",
       "3  no       5  \n",
       "4  no       5  "
      ]
     },
     "execution_count": 32,
     "metadata": {},
     "output_type": "execute_result"
    }
   ],
   "source": [
    "df.head(5)"
   ]
  },
  {
   "cell_type": "markdown",
   "id": "a7e47da8",
   "metadata": {},
   "source": [
    "## Exploratory Data Analysis (EDA):"
   ]
  },
  {
   "cell_type": "code",
   "execution_count": 33,
   "id": "5eb4a29e",
   "metadata": {},
   "outputs": [
    {
     "data": {
      "text/html": [
       "<div>\n",
       "<style scoped>\n",
       "    .dataframe tbody tr th:only-of-type {\n",
       "        vertical-align: middle;\n",
       "    }\n",
       "\n",
       "    .dataframe tbody tr th {\n",
       "        vertical-align: top;\n",
       "    }\n",
       "\n",
       "    .dataframe thead th {\n",
       "        text-align: right;\n",
       "    }\n",
       "</style>\n",
       "<table border=\"1\" class=\"dataframe\">\n",
       "  <thead>\n",
       "    <tr style=\"text-align: right;\">\n",
       "      <th>y</th>\n",
       "      <th>no</th>\n",
       "      <th>yes</th>\n",
       "      <th>Age</th>\n",
       "    </tr>\n",
       "    <tr>\n",
       "      <th>age</th>\n",
       "      <th></th>\n",
       "      <th></th>\n",
       "      <th></th>\n",
       "    </tr>\n",
       "  </thead>\n",
       "  <tbody>\n",
       "    <tr>\n",
       "      <th>18</th>\n",
       "      <td>5</td>\n",
       "      <td>7</td>\n",
       "      <td>18</td>\n",
       "    </tr>\n",
       "    <tr>\n",
       "      <th>19</th>\n",
       "      <td>24</td>\n",
       "      <td>11</td>\n",
       "      <td>19</td>\n",
       "    </tr>\n",
       "    <tr>\n",
       "      <th>20</th>\n",
       "      <td>35</td>\n",
       "      <td>15</td>\n",
       "      <td>20</td>\n",
       "    </tr>\n",
       "    <tr>\n",
       "      <th>21</th>\n",
       "      <td>57</td>\n",
       "      <td>22</td>\n",
       "      <td>21</td>\n",
       "    </tr>\n",
       "    <tr>\n",
       "      <th>22</th>\n",
       "      <td>89</td>\n",
       "      <td>40</td>\n",
       "      <td>22</td>\n",
       "    </tr>\n",
       "    <tr>\n",
       "      <th>23</th>\n",
       "      <td>158</td>\n",
       "      <td>44</td>\n",
       "      <td>23</td>\n",
       "    </tr>\n",
       "  </tbody>\n",
       "</table>\n",
       "</div>"
      ],
      "text/plain": [
       "y     no  yes  Age\n",
       "age               \n",
       "18     5    7   18\n",
       "19    24   11   19\n",
       "20    35   15   20\n",
       "21    57   22   21\n",
       "22    89   40   22\n",
       "23   158   44   23"
      ]
     },
     "execution_count": 33,
     "metadata": {},
     "output_type": "execute_result"
    }
   ],
   "source": [
    "Age_Pivot = pd.pivot_table(df,index = 'age',columns='y',values ='marital',aggfunc = 'count',fill_value = 0)\n",
    "Age_Pivot['Age'] = Age_Pivot.index\n",
    "Age_Pivot.head(6)"
   ]
  },
  {
   "cell_type": "code",
   "execution_count": 34,
   "id": "b585555e",
   "metadata": {},
   "outputs": [
    {
     "data": {
      "text/plain": [
       "80"
      ]
     },
     "execution_count": 34,
     "metadata": {},
     "output_type": "execute_result"
    }
   ],
   "source": [
    "df.age.max()"
   ]
  },
  {
   "cell_type": "code",
   "execution_count": 35,
   "id": "d7f8da14",
   "metadata": {},
   "outputs": [
    {
     "data": {
      "text/plain": [
       "Index(['no', 'yes', 'Age'], dtype='object', name='y')"
      ]
     },
     "execution_count": 35,
     "metadata": {},
     "output_type": "execute_result"
    }
   ],
   "source": [
    "Age_Pivot.columns"
   ]
  },
  {
   "cell_type": "code",
   "execution_count": 36,
   "id": "2d649d4c",
   "metadata": {
    "scrolled": false
   },
   "outputs": [
    {
     "data": {
      "image/png": "[encoded data removed]",
      "text/plain": [
       "<Figure size 640x480 with 1 Axes>"
      ]
     },
     "metadata": {},
     "output_type": "display_data"
    }
   ],
   "source": [
    "plt.bar(Age_Pivot.Age,Age_Pivot.no,label = 'Not Converted')\n",
    "plt.bar(Age_Pivot.Age,Age_Pivot.yes,label = 'Converted')\n",
    "plt.xlabel('Age')\n",
    "plt.ylabel('Count')\n",
    "plt.title('Trend of Age')\n",
    "plt.legend(loc='upper right')\n",
    "plt.show()\n"
   ]
  },
  {
   "cell_type": "markdown",
   "id": "c2b33318",
   "metadata": {},
   "source": [
    "1. From the above trend it is clear that the most targeted customer age group is between 25 to 60\n",
    "2. The conversion count is also high to the customer age group between 25 to 60\n",
    "3. The age group less than 25 and greater that 60 are likely to converted easily that the age group between 25 to 60"
   ]
  },
  {
   "cell_type": "markdown",
   "id": "f2cdd68e",
   "metadata": {},
   "source": [
    "#### Clustering the Age droup into 3 for better analysis"
   ]
  },
  {
   "cell_type": "code",
   "execution_count": 37,
   "id": "80117fa4",
   "metadata": {},
   "outputs": [
    {
     "data": {
      "text/plain": [
       "Index(['job', 'marital', 'education_qual', 'call_type', 'day', 'dur',\n",
       "       'num_calls', 'y'],\n",
       "      dtype='object')"
      ]
     },
     "execution_count": 37,
     "metadata": {},
     "output_type": "execute_result"
    }
   ],
   "source": [
    "Col = df.columns[1:-1]\n",
    "Col"
   ]
  },
  {
   "cell_type": "code",
   "execution_count": 38,
   "id": "680d59c5",
   "metadata": {},
   "outputs": [],
   "source": [
    "#Creating age group\n",
    "\n",
    "def agegroup(x): # Function to Group the age\n",
    "    if x < 25 :\n",
    "        return 'less than 25'\n",
    "    elif x > 60:\n",
    "        return 'greater than 60' \n",
    "    else:\n",
    "        return 'b/w 25 and 60'\n",
    "\n",
    "df['age_group'] = df['age'].apply(agegroup)"
   ]
  },
  {
   "cell_type": "markdown",
   "id": "ef196aa8",
   "metadata": {},
   "source": [
    "##### Exploring the Converted Customers"
   ]
  },
  {
   "cell_type": "code",
   "execution_count": 39,
   "id": "7243f732",
   "metadata": {},
   "outputs": [
    {
     "data": {
      "text/html": [
       "<div>\n",
       "<style scoped>\n",
       "    .dataframe tbody tr th:only-of-type {\n",
       "        vertical-align: middle;\n",
       "    }\n",
       "\n",
       "    .dataframe tbody tr th {\n",
       "        vertical-align: top;\n",
       "    }\n",
       "\n",
       "    .dataframe thead th {\n",
       "        text-align: right;\n",
       "    }\n",
       "</style>\n",
       "<table border=\"1\" class=\"dataframe\">\n",
       "  <thead>\n",
       "    <tr style=\"text-align: right;\">\n",
       "      <th></th>\n",
       "      <th>age</th>\n",
       "      <th>job</th>\n",
       "      <th>marital</th>\n",
       "      <th>education_qual</th>\n",
       "      <th>call_type</th>\n",
       "      <th>day</th>\n",
       "      <th>dur</th>\n",
       "      <th>num_calls</th>\n",
       "      <th>y</th>\n",
       "      <th>Mon_No</th>\n",
       "      <th>age_group</th>\n",
       "    </tr>\n",
       "  </thead>\n",
       "  <tbody>\n",
       "    <tr>\n",
       "      <th>31360</th>\n",
       "      <td>18</td>\n",
       "      <td>student</td>\n",
       "      <td>single</td>\n",
       "      <td>secondary</td>\n",
       "      <td>cellular</td>\n",
       "      <td>10</td>\n",
       "      <td>167</td>\n",
       "      <td>1</td>\n",
       "      <td>yes</td>\n",
       "      <td>8</td>\n",
       "      <td>less than 25</td>\n",
       "    </tr>\n",
       "    <tr>\n",
       "      <th>31503</th>\n",
       "      <td>18</td>\n",
       "      <td>student</td>\n",
       "      <td>single</td>\n",
       "      <td>primary</td>\n",
       "      <td>cellular</td>\n",
       "      <td>12</td>\n",
       "      <td>267</td>\n",
       "      <td>1</td>\n",
       "      <td>yes</td>\n",
       "      <td>8</td>\n",
       "      <td>less than 25</td>\n",
       "    </tr>\n",
       "    <tr>\n",
       "      <th>13565</th>\n",
       "      <td>18</td>\n",
       "      <td>student</td>\n",
       "      <td>single</td>\n",
       "      <td>secondary</td>\n",
       "      <td>cellular</td>\n",
       "      <td>5</td>\n",
       "      <td>443</td>\n",
       "      <td>4</td>\n",
       "      <td>yes</td>\n",
       "      <td>5</td>\n",
       "      <td>less than 25</td>\n",
       "    </tr>\n",
       "    <tr>\n",
       "      <th>44746</th>\n",
       "      <td>18</td>\n",
       "      <td>student</td>\n",
       "      <td>single</td>\n",
       "      <td>secondary</td>\n",
       "      <td>cellular</td>\n",
       "      <td>8</td>\n",
       "      <td>169</td>\n",
       "      <td>1</td>\n",
       "      <td>yes</td>\n",
       "      <td>9</td>\n",
       "      <td>less than 25</td>\n",
       "    </tr>\n",
       "    <tr>\n",
       "      <th>36766</th>\n",
       "      <td>18</td>\n",
       "      <td>student</td>\n",
       "      <td>single</td>\n",
       "      <td>primary</td>\n",
       "      <td>cellular</td>\n",
       "      <td>13</td>\n",
       "      <td>210</td>\n",
       "      <td>1</td>\n",
       "      <td>yes</td>\n",
       "      <td>11</td>\n",
       "      <td>less than 25</td>\n",
       "    </tr>\n",
       "    <tr>\n",
       "      <th>...</th>\n",
       "      <td>...</td>\n",
       "      <td>...</td>\n",
       "      <td>...</td>\n",
       "      <td>...</td>\n",
       "      <td>...</td>\n",
       "      <td>...</td>\n",
       "      <td>...</td>\n",
       "      <td>...</td>\n",
       "      <td>...</td>\n",
       "      <td>...</td>\n",
       "      <td>...</td>\n",
       "    </tr>\n",
       "    <tr>\n",
       "      <th>44913</th>\n",
       "      <td>80</td>\n",
       "      <td>entrepreneur</td>\n",
       "      <td>married</td>\n",
       "      <td>secondary</td>\n",
       "      <td>telephone</td>\n",
       "      <td>30</td>\n",
       "      <td>992</td>\n",
       "      <td>2</td>\n",
       "      <td>yes</td>\n",
       "      <td>9</td>\n",
       "      <td>greater than 60</td>\n",
       "    </tr>\n",
       "    <tr>\n",
       "      <th>37138</th>\n",
       "      <td>80</td>\n",
       "      <td>retired</td>\n",
       "      <td>married</td>\n",
       "      <td>secondary</td>\n",
       "      <td>telephone</td>\n",
       "      <td>28</td>\n",
       "      <td>679</td>\n",
       "      <td>1</td>\n",
       "      <td>yes</td>\n",
       "      <td>12</td>\n",
       "      <td>greater than 60</td>\n",
       "    </tr>\n",
       "    <tr>\n",
       "      <th>31907</th>\n",
       "      <td>80</td>\n",
       "      <td>retired</td>\n",
       "      <td>divorced</td>\n",
       "      <td>primary</td>\n",
       "      <td>telephone</td>\n",
       "      <td>26</td>\n",
       "      <td>189</td>\n",
       "      <td>1</td>\n",
       "      <td>yes</td>\n",
       "      <td>8</td>\n",
       "      <td>greater than 60</td>\n",
       "    </tr>\n",
       "    <tr>\n",
       "      <th>38535</th>\n",
       "      <td>80</td>\n",
       "      <td>retired</td>\n",
       "      <td>married</td>\n",
       "      <td>primary</td>\n",
       "      <td>cellular</td>\n",
       "      <td>28</td>\n",
       "      <td>151</td>\n",
       "      <td>1</td>\n",
       "      <td>yes</td>\n",
       "      <td>1</td>\n",
       "      <td>greater than 60</td>\n",
       "    </tr>\n",
       "    <tr>\n",
       "      <th>44422</th>\n",
       "      <td>80</td>\n",
       "      <td>retired</td>\n",
       "      <td>married</td>\n",
       "      <td>primary</td>\n",
       "      <td>telephone</td>\n",
       "      <td>1</td>\n",
       "      <td>558</td>\n",
       "      <td>2</td>\n",
       "      <td>yes</td>\n",
       "      <td>4</td>\n",
       "      <td>greater than 60</td>\n",
       "    </tr>\n",
       "  </tbody>\n",
       "</table>\n",
       "<p>5289 rows × 11 columns</p>\n",
       "</div>"
      ],
      "text/plain": [
       "       age           job   marital education_qual  call_type  day  dur  \\\n",
       "31360   18       student    single      secondary   cellular   10  167   \n",
       "31503   18       student    single        primary   cellular   12  267   \n",
       "13565   18       student    single      secondary   cellular    5  443   \n",
       "44746   18       student    single      secondary   cellular    8  169   \n",
       "36766   18       student    single        primary   cellular   13  210   \n",
       "...    ...           ...       ...            ...        ...  ...  ...   \n",
       "44913   80  entrepreneur   married      secondary  telephone   30  992   \n",
       "37138   80       retired   married      secondary  telephone   28  679   \n",
       "31907   80       retired  divorced        primary  telephone   26  189   \n",
       "38535   80       retired   married        primary   cellular   28  151   \n",
       "44422   80       retired   married        primary  telephone    1  558   \n",
       "\n",
       "       num_calls    y  Mon_No        age_group  \n",
       "31360          1  yes       8     less than 25  \n",
       "31503          1  yes       8     less than 25  \n",
       "13565          4  yes       5     less than 25  \n",
       "44746          1  yes       9     less than 25  \n",
       "36766          1  yes      11     less than 25  \n",
       "...          ...  ...     ...              ...  \n",
       "44913          2  yes       9  greater than 60  \n",
       "37138          1  yes      12  greater than 60  \n",
       "31907          1  yes       8  greater than 60  \n",
       "38535          1  yes       1  greater than 60  \n",
       "44422          2  yes       4  greater than 60  \n",
       "\n",
       "[5289 rows x 11 columns]"
      ]
     },
     "execution_count": 39,
     "metadata": {},
     "output_type": "execute_result"
    }
   ],
   "source": [
    "Converted_DF = df[df['y']=='yes']\n",
    "Converted_DF.sort_values('age')"
   ]
  },
  {
   "cell_type": "code",
   "execution_count": 40,
   "id": "fd19bf24",
   "metadata": {},
   "outputs": [],
   "source": [
    "Features = ['job','marital','education_qual','call_type','Mon_No','num_calls','dur']\n",
    "#Con = ['dur']"
   ]
  },
  {
   "cell_type": "markdown",
   "id": "20633333",
   "metadata": {},
   "source": [
    "###### Creating Pivot Tables for analysing the converted Customers"
   ]
  },
  {
   "cell_type": "code",
   "execution_count": 41,
   "id": "badd1052",
   "metadata": {},
   "outputs": [],
   "source": [
    "def PivotTables (Ft): # Function to Create Pivot Tables\n",
    "    if Ft != 'dur':\n",
    "        Pivot_DF = pd.pivot_table(Converted_DF,index = Ft,columns=('age_group'),values ='y',aggfunc = 'count',fill_value = 0)\n",
    "        return(Pivot_DF)\n",
    "    else:\n",
    "        Pivot_DF = pd.pivot_table(Converted_DF,index = 'age_group',columns=('y'),values ='dur',aggfunc = 'mean',fill_value = 0)\n",
    "        return(Pivot_DF)"
   ]
  },
  {
   "cell_type": "code",
   "execution_count": 42,
   "id": "c42d8acf",
   "metadata": {},
   "outputs": [],
   "source": [
    "# Storing the Pivot Tables in List\n",
    "PVNames=[]\n",
    "PV_DF =[]\n",
    "for F in Features:\n",
    "    PVNames.append(\"Age_\" + F)\n",
    "    PV_DF.append(PivotTables (F))\n",
    "\n",
    "PV = {\"P_Names\":PVNames,\n",
    "      \"PV_DF\":PV_DF }\n",
    "\n"
   ]
  },
  {
   "cell_type": "markdown",
   "id": "0f3499ad",
   "metadata": {},
   "source": [
    "###### Creating BarPlots to Analyse the Converted Customers"
   ]
  },
  {
   "cell_type": "code",
   "execution_count": 43,
   "id": "0e4f7ea7",
   "metadata": {},
   "outputs": [
    {
     "name": "stderr",
     "output_type": "stream",
     "text": [
      "C:\\Users\\ranga\\AppData\\Local\\Temp\\ipykernel_20048\\1500604415.py:21: UserWarning: FixedFormatter should only be used together with FixedLocator\n",
      "  ax[m,n].set_yticklabels(labels = j.index,rotation=0)\n",
      "No artists with labels found to put in legend.  Note that artists whose label start with an underscore are ignored when legend() is called with no argument.\n"
     ]
    },
    {
     "data": {
      "image/png": "[encoded data removed]",
      "text/plain": [
       "<Figure size 1500x1500 with 7 Axes>"
      ]
     },
     "metadata": {},
     "output_type": "display_data"
    }
   ],
   "source": [
    "fig,ax = plt.subplots(4,2,figsize=(15, 15), facecolor='lightblue',frameon=True)\n",
    "#fig,ax = generate_subplots(len(Features), row_wise=True)\n",
    "\n",
    "fig.suptitle('Analysis of Converted Customers',fontsize = 20,fontweight ='bold')\n",
    "m,n,k = 0,0,0\n",
    "for i, j in zip(Features,PV_DF):\n",
    "    \n",
    "    if i != 'dur':\n",
    "        ax[m,n].barh(j.index,j.iloc[:,0],label = 'b/w 25 and 60')\n",
    "        ax[m,n].barh(j.index,j.iloc[:,1],label = 'greater than 60')\n",
    "        ax[m,n].barh(j.index,j.iloc[:,2],label = 'less than 25')\n",
    "    else:\n",
    "        ax[m,n].barh(j.index,j.iloc[:,0])\n",
    "    ax[m,n].legend(facecolor = 'lightblue')\n",
    "    ax[m,n].set_facecolor('lightblue')\n",
    "    #ax[m,n].set_xlabel('Conversion Count')\n",
    "    #plt.xlabel('Conversion Count')\n",
    "    #ax[m,n].set_ylabel(i.upper())\n",
    "    ax[m,n].set_title('Conversion Count based on '+ i.upper(),fontweight ='bold')\n",
    "    #ax[m,n].set_yticks(rotation=30)\n",
    "    ax[m,n].set_yticklabels(labels = j.index,rotation=0)\n",
    "    k = k + 15\n",
    "    m = m + 1 if k % 2 == 0 else m \n",
    "    n = 0 if k % 2 == 0 else n + 1\n",
    "fig.delaxes(ax[3][1])\n",
    "plt.subplots_adjust(left=0.1,\n",
    "                    bottom=0.1,\n",
    "                    right=.9,\n",
    "                    top=0.9,\n",
    "                    wspace=0.3,\n",
    "                    hspace=0.4)\n",
    "#plt.setp(ax.xaxis.get_majorticklabels(), rotation=45)\n",
    "plt.yticks(rotation=30)\n",
    "plt.show()"
   ]
  },
  {
   "cell_type": "markdown",
   "id": "b9d95183",
   "metadata": {},
   "source": [
    "#### Inferences from the above Plots:\n",
    "###### *1. Job Catagory - 'Management' has Highest Conversion Count\n",
    "###### *2. Marital Status - 'Marrried' has Highest Conversion Count\n",
    "###### *3. Educational Qualification - 'Secondary' has Highest Conversion Count\n",
    "###### *4. Call Type - 'Cellular' has Highest Conversion Count but it is the weakest feature since there is big count difference b/w the two call types\n",
    "###### *5. May Month has the highest conversion Count\n",
    "###### *6. Most of the customer converted in a Single Call\n",
    "###### *7. Most Converted Customer age falls between 25 to 60\n",
    "        \n",
    "##### | There is high chance of conversion if all the above condtions are satisfied |\n",
    "###### --------------------------------------------------------------------------------------------------------------------------------------------------------------------------------------------------------\n",
    "\n",
    "\n"
   ]
  },
  {
   "cell_type": "markdown",
   "id": "c0889ca5",
   "metadata": {},
   "source": [
    "## Label Encoding for Catagorical Variable & Target Variable\n",
    "\n",
    "#### There are two types of Encoding - One hot & Label Encoding\n",
    "##### * \"Label encoding\" is used for Binary Catagorical variable and Multilass ordinal(ie., if there is hierachical order) catagorical variable\n",
    "##### * \"One hot encoding\" is used for Multilass Nominal catagorical variable\n",
    "###### We have already applied Label Encoding for Month feature as it is Multiclass Ordinal Type variable\n"
   ]
  },
  {
   "cell_type": "code",
   "execution_count": 44,
   "id": "c879985b",
   "metadata": {},
   "outputs": [],
   "source": [
    "Bin_Cat = ['y','call_type'] # Label Encoding\n",
    "Multi_Nom_Cat = ['job','marital','education_qual'] # One Hot Encoding"
   ]
  },
  {
   "cell_type": "code",
   "execution_count": 45,
   "id": "c1f3da73",
   "metadata": {},
   "outputs": [],
   "source": [
    "# Function for Label Encoding\n",
    "\n",
    "def Label_Encode(Col,Data_Frame):\n",
    "    Label_Name = 'Labeled_' + Col\n",
    "    Unique_Val = Data_Frame[Col].unique()\n",
    "    Data_Frame[Label_Name] = Data_Frame[Col].apply(lambda x: 1 if x == Unique_Val[1] else 0)\n",
    "    Data_Frame = Data_Frame.drop(Col,axis = 1)\n",
    "    return Data_Frame"
   ]
  },
  {
   "cell_type": "code",
   "execution_count": 46,
   "id": "f22d3f8a",
   "metadata": {},
   "outputs": [],
   "source": [
    "# Function for One Hot Encoding\n",
    "\n",
    "def One_hot_Encode(Col,Data_Frame):\n",
    "    Unique_Val = Data_Frame[Col].unique()\n",
    "    print(Unique_Val)\n",
    "    for item in Unique_Val:\n",
    "        Data_Frame[item.upper()] = Data_Frame[Col].apply(lambda x : 1 if x == item else 0 )\n",
    "    Data_Frame = Data_Frame.drop(Col,axis = 1)\n",
    "    return Data_Frame"
   ]
  },
  {
   "cell_type": "code",
   "execution_count": 47,
   "id": "eee413e8",
   "metadata": {},
   "outputs": [
    {
     "name": "stdout",
     "output_type": "stream",
     "text": [
      "['management' 'technician' 'entrepreneur' 'blue-collar' 'retired' 'admin.'\n",
      " 'services' 'self-employed' 'unemployed' 'housemaid' 'student']\n",
      "['married' 'single' 'divorced']\n",
      "['tertiary' 'secondary' 'primary']\n"
     ]
    }
   ],
   "source": [
    "# Label Encoding for Binary Catagorical Variable\n",
    "\n",
    "for i in Bin_Cat:\n",
    "    df = Label_Encode(i,df)\n",
    "\n",
    "# One Hot  Encoding for Multiclass Nominal Variable\n",
    "\n",
    "for i in Multi_Nom_Cat:\n",
    "    df = One_hot_Encode(i,df)\n"
   ]
  },
  {
   "cell_type": "code",
   "execution_count": 48,
   "id": "62b48af3",
   "metadata": {},
   "outputs": [
    {
     "data": {
      "text/html": [
       "<div>\n",
       "<style scoped>\n",
       "    .dataframe tbody tr th:only-of-type {\n",
       "        vertical-align: middle;\n",
       "    }\n",
       "\n",
       "    .dataframe tbody tr th {\n",
       "        vertical-align: top;\n",
       "    }\n",
       "\n",
       "    .dataframe thead th {\n",
       "        text-align: right;\n",
       "    }\n",
       "</style>\n",
       "<table border=\"1\" class=\"dataframe\">\n",
       "  <thead>\n",
       "    <tr style=\"text-align: right;\">\n",
       "      <th></th>\n",
       "      <th>age</th>\n",
       "      <th>day</th>\n",
       "      <th>dur</th>\n",
       "      <th>num_calls</th>\n",
       "      <th>Mon_No</th>\n",
       "      <th>Labeled_y</th>\n",
       "      <th>Labeled_call_type</th>\n",
       "      <th>MANAGEMENT</th>\n",
       "      <th>TECHNICIAN</th>\n",
       "      <th>ENTREPRENEUR</th>\n",
       "      <th>...</th>\n",
       "      <th>SELF-EMPLOYED</th>\n",
       "      <th>UNEMPLOYED</th>\n",
       "      <th>HOUSEMAID</th>\n",
       "      <th>STUDENT</th>\n",
       "      <th>MARRIED</th>\n",
       "      <th>SINGLE</th>\n",
       "      <th>DIVORCED</th>\n",
       "      <th>TERTIARY</th>\n",
       "      <th>SECONDARY</th>\n",
       "      <th>PRIMARY</th>\n",
       "    </tr>\n",
       "  </thead>\n",
       "  <tbody>\n",
       "    <tr>\n",
       "      <th>0</th>\n",
       "      <td>58</td>\n",
       "      <td>5</td>\n",
       "      <td>261</td>\n",
       "      <td>1</td>\n",
       "      <td>5</td>\n",
       "      <td>0</td>\n",
       "      <td>0</td>\n",
       "      <td>1</td>\n",
       "      <td>0</td>\n",
       "      <td>0</td>\n",
       "      <td>...</td>\n",
       "      <td>0</td>\n",
       "      <td>0</td>\n",
       "      <td>0</td>\n",
       "      <td>0</td>\n",
       "      <td>1</td>\n",
       "      <td>0</td>\n",
       "      <td>0</td>\n",
       "      <td>1</td>\n",
       "      <td>0</td>\n",
       "      <td>0</td>\n",
       "    </tr>\n",
       "    <tr>\n",
       "      <th>1</th>\n",
       "      <td>44</td>\n",
       "      <td>5</td>\n",
       "      <td>151</td>\n",
       "      <td>1</td>\n",
       "      <td>5</td>\n",
       "      <td>0</td>\n",
       "      <td>0</td>\n",
       "      <td>0</td>\n",
       "      <td>1</td>\n",
       "      <td>0</td>\n",
       "      <td>...</td>\n",
       "      <td>0</td>\n",
       "      <td>0</td>\n",
       "      <td>0</td>\n",
       "      <td>0</td>\n",
       "      <td>0</td>\n",
       "      <td>1</td>\n",
       "      <td>0</td>\n",
       "      <td>0</td>\n",
       "      <td>1</td>\n",
       "      <td>0</td>\n",
       "    </tr>\n",
       "    <tr>\n",
       "      <th>2</th>\n",
       "      <td>33</td>\n",
       "      <td>5</td>\n",
       "      <td>76</td>\n",
       "      <td>1</td>\n",
       "      <td>5</td>\n",
       "      <td>0</td>\n",
       "      <td>0</td>\n",
       "      <td>0</td>\n",
       "      <td>0</td>\n",
       "      <td>1</td>\n",
       "      <td>...</td>\n",
       "      <td>0</td>\n",
       "      <td>0</td>\n",
       "      <td>0</td>\n",
       "      <td>0</td>\n",
       "      <td>1</td>\n",
       "      <td>0</td>\n",
       "      <td>0</td>\n",
       "      <td>0</td>\n",
       "      <td>1</td>\n",
       "      <td>0</td>\n",
       "    </tr>\n",
       "    <tr>\n",
       "      <th>3</th>\n",
       "      <td>47</td>\n",
       "      <td>5</td>\n",
       "      <td>92</td>\n",
       "      <td>1</td>\n",
       "      <td>5</td>\n",
       "      <td>0</td>\n",
       "      <td>0</td>\n",
       "      <td>0</td>\n",
       "      <td>0</td>\n",
       "      <td>0</td>\n",
       "      <td>...</td>\n",
       "      <td>0</td>\n",
       "      <td>0</td>\n",
       "      <td>0</td>\n",
       "      <td>0</td>\n",
       "      <td>1</td>\n",
       "      <td>0</td>\n",
       "      <td>0</td>\n",
       "      <td>0</td>\n",
       "      <td>1</td>\n",
       "      <td>0</td>\n",
       "    </tr>\n",
       "    <tr>\n",
       "      <th>4</th>\n",
       "      <td>33</td>\n",
       "      <td>5</td>\n",
       "      <td>198</td>\n",
       "      <td>1</td>\n",
       "      <td>5</td>\n",
       "      <td>0</td>\n",
       "      <td>0</td>\n",
       "      <td>0</td>\n",
       "      <td>0</td>\n",
       "      <td>0</td>\n",
       "      <td>...</td>\n",
       "      <td>0</td>\n",
       "      <td>0</td>\n",
       "      <td>0</td>\n",
       "      <td>0</td>\n",
       "      <td>0</td>\n",
       "      <td>1</td>\n",
       "      <td>0</td>\n",
       "      <td>0</td>\n",
       "      <td>1</td>\n",
       "      <td>0</td>\n",
       "    </tr>\n",
       "  </tbody>\n",
       "</table>\n",
       "<p>5 rows × 24 columns</p>\n",
       "</div>"
      ],
      "text/plain": [
       "   age  day  dur  num_calls  Mon_No  Labeled_y  Labeled_call_type  MANAGEMENT  \\\n",
       "0   58    5  261          1       5          0                  0           1   \n",
       "1   44    5  151          1       5          0                  0           0   \n",
       "2   33    5   76          1       5          0                  0           0   \n",
       "3   47    5   92          1       5          0                  0           0   \n",
       "4   33    5  198          1       5          0                  0           0   \n",
       "\n",
       "   TECHNICIAN  ENTREPRENEUR  ...  SELF-EMPLOYED  UNEMPLOYED  HOUSEMAID  \\\n",
       "0           0             0  ...              0           0          0   \n",
       "1           1             0  ...              0           0          0   \n",
       "2           0             1  ...              0           0          0   \n",
       "3           0             0  ...              0           0          0   \n",
       "4           0             0  ...              0           0          0   \n",
       "\n",
       "   STUDENT  MARRIED  SINGLE  DIVORCED  TERTIARY  SECONDARY  PRIMARY  \n",
       "0        0        1       0         0         1          0        0  \n",
       "1        0        0       1         0         0          1        0  \n",
       "2        0        1       0         0         0          1        0  \n",
       "3        0        1       0         0         0          1        0  \n",
       "4        0        0       1         0         0          1        0  \n",
       "\n",
       "[5 rows x 24 columns]"
      ]
     },
     "execution_count": 48,
     "metadata": {},
     "output_type": "execute_result"
    }
   ],
   "source": [
    "df = df.drop('age_group',axis = 1)\n",
    "df.head(5)"
   ]
  },
  {
   "cell_type": "markdown",
   "id": "076f0f11",
   "metadata": {},
   "source": [
    "### Spliting, Balancing & Scaling the Data Set"
   ]
  },
  {
   "cell_type": "markdown",
   "id": "bb7f06fc",
   "metadata": {},
   "source": [
    "#### 1. Spliting the Data set to Training and Test Data set"
   ]
  },
  {
   "cell_type": "code",
   "execution_count": 49,
   "id": "dc05d91d",
   "metadata": {},
   "outputs": [],
   "source": [
    "X = df.drop('Labeled_y',axis = 1)\n",
    "X = X.loc[:,X.columns[:]]# Features\n",
    "Y = df['Labeled_y']"
   ]
  },
  {
   "cell_type": "code",
   "execution_count": 50,
   "id": "58e0f2b1",
   "metadata": {},
   "outputs": [
    {
     "data": {
      "text/html": [
       "<div>\n",
       "<style scoped>\n",
       "    .dataframe tbody tr th:only-of-type {\n",
       "        vertical-align: middle;\n",
       "    }\n",
       "\n",
       "    .dataframe tbody tr th {\n",
       "        vertical-align: top;\n",
       "    }\n",
       "\n",
       "    .dataframe thead th {\n",
       "        text-align: right;\n",
       "    }\n",
       "</style>\n",
       "<table border=\"1\" class=\"dataframe\">\n",
       "  <thead>\n",
       "    <tr style=\"text-align: right;\">\n",
       "      <th></th>\n",
       "      <th>age</th>\n",
       "      <th>day</th>\n",
       "      <th>dur</th>\n",
       "      <th>num_calls</th>\n",
       "      <th>Mon_No</th>\n",
       "      <th>Labeled_call_type</th>\n",
       "      <th>MANAGEMENT</th>\n",
       "      <th>TECHNICIAN</th>\n",
       "      <th>ENTREPRENEUR</th>\n",
       "      <th>BLUE-COLLAR</th>\n",
       "      <th>...</th>\n",
       "      <th>SELF-EMPLOYED</th>\n",
       "      <th>UNEMPLOYED</th>\n",
       "      <th>HOUSEMAID</th>\n",
       "      <th>STUDENT</th>\n",
       "      <th>MARRIED</th>\n",
       "      <th>SINGLE</th>\n",
       "      <th>DIVORCED</th>\n",
       "      <th>TERTIARY</th>\n",
       "      <th>SECONDARY</th>\n",
       "      <th>PRIMARY</th>\n",
       "    </tr>\n",
       "  </thead>\n",
       "  <tbody>\n",
       "    <tr>\n",
       "      <th>0</th>\n",
       "      <td>58</td>\n",
       "      <td>5</td>\n",
       "      <td>261</td>\n",
       "      <td>1</td>\n",
       "      <td>5</td>\n",
       "      <td>0</td>\n",
       "      <td>1</td>\n",
       "      <td>0</td>\n",
       "      <td>0</td>\n",
       "      <td>0</td>\n",
       "      <td>...</td>\n",
       "      <td>0</td>\n",
       "      <td>0</td>\n",
       "      <td>0</td>\n",
       "      <td>0</td>\n",
       "      <td>1</td>\n",
       "      <td>0</td>\n",
       "      <td>0</td>\n",
       "      <td>1</td>\n",
       "      <td>0</td>\n",
       "      <td>0</td>\n",
       "    </tr>\n",
       "    <tr>\n",
       "      <th>1</th>\n",
       "      <td>44</td>\n",
       "      <td>5</td>\n",
       "      <td>151</td>\n",
       "      <td>1</td>\n",
       "      <td>5</td>\n",
       "      <td>0</td>\n",
       "      <td>0</td>\n",
       "      <td>1</td>\n",
       "      <td>0</td>\n",
       "      <td>0</td>\n",
       "      <td>...</td>\n",
       "      <td>0</td>\n",
       "      <td>0</td>\n",
       "      <td>0</td>\n",
       "      <td>0</td>\n",
       "      <td>0</td>\n",
       "      <td>1</td>\n",
       "      <td>0</td>\n",
       "      <td>0</td>\n",
       "      <td>1</td>\n",
       "      <td>0</td>\n",
       "    </tr>\n",
       "    <tr>\n",
       "      <th>2</th>\n",
       "      <td>33</td>\n",
       "      <td>5</td>\n",
       "      <td>76</td>\n",
       "      <td>1</td>\n",
       "      <td>5</td>\n",
       "      <td>0</td>\n",
       "      <td>0</td>\n",
       "      <td>0</td>\n",
       "      <td>1</td>\n",
       "      <td>0</td>\n",
       "      <td>...</td>\n",
       "      <td>0</td>\n",
       "      <td>0</td>\n",
       "      <td>0</td>\n",
       "      <td>0</td>\n",
       "      <td>1</td>\n",
       "      <td>0</td>\n",
       "      <td>0</td>\n",
       "      <td>0</td>\n",
       "      <td>1</td>\n",
       "      <td>0</td>\n",
       "    </tr>\n",
       "    <tr>\n",
       "      <th>3</th>\n",
       "      <td>47</td>\n",
       "      <td>5</td>\n",
       "      <td>92</td>\n",
       "      <td>1</td>\n",
       "      <td>5</td>\n",
       "      <td>0</td>\n",
       "      <td>0</td>\n",
       "      <td>0</td>\n",
       "      <td>0</td>\n",
       "      <td>1</td>\n",
       "      <td>...</td>\n",
       "      <td>0</td>\n",
       "      <td>0</td>\n",
       "      <td>0</td>\n",
       "      <td>0</td>\n",
       "      <td>1</td>\n",
       "      <td>0</td>\n",
       "      <td>0</td>\n",
       "      <td>0</td>\n",
       "      <td>1</td>\n",
       "      <td>0</td>\n",
       "    </tr>\n",
       "    <tr>\n",
       "      <th>4</th>\n",
       "      <td>33</td>\n",
       "      <td>5</td>\n",
       "      <td>198</td>\n",
       "      <td>1</td>\n",
       "      <td>5</td>\n",
       "      <td>0</td>\n",
       "      <td>0</td>\n",
       "      <td>0</td>\n",
       "      <td>0</td>\n",
       "      <td>1</td>\n",
       "      <td>...</td>\n",
       "      <td>0</td>\n",
       "      <td>0</td>\n",
       "      <td>0</td>\n",
       "      <td>0</td>\n",
       "      <td>0</td>\n",
       "      <td>1</td>\n",
       "      <td>0</td>\n",
       "      <td>0</td>\n",
       "      <td>1</td>\n",
       "      <td>0</td>\n",
       "    </tr>\n",
       "    <tr>\n",
       "      <th>...</th>\n",
       "      <td>...</td>\n",
       "      <td>...</td>\n",
       "      <td>...</td>\n",
       "      <td>...</td>\n",
       "      <td>...</td>\n",
       "      <td>...</td>\n",
       "      <td>...</td>\n",
       "      <td>...</td>\n",
       "      <td>...</td>\n",
       "      <td>...</td>\n",
       "      <td>...</td>\n",
       "      <td>...</td>\n",
       "      <td>...</td>\n",
       "      <td>...</td>\n",
       "      <td>...</td>\n",
       "      <td>...</td>\n",
       "      <td>...</td>\n",
       "      <td>...</td>\n",
       "      <td>...</td>\n",
       "      <td>...</td>\n",
       "      <td>...</td>\n",
       "    </tr>\n",
       "    <tr>\n",
       "      <th>45206</th>\n",
       "      <td>67</td>\n",
       "      <td>29</td>\n",
       "      <td>245</td>\n",
       "      <td>3</td>\n",
       "      <td>9</td>\n",
       "      <td>0</td>\n",
       "      <td>0</td>\n",
       "      <td>0</td>\n",
       "      <td>0</td>\n",
       "      <td>0</td>\n",
       "      <td>...</td>\n",
       "      <td>0</td>\n",
       "      <td>0</td>\n",
       "      <td>0</td>\n",
       "      <td>0</td>\n",
       "      <td>1</td>\n",
       "      <td>0</td>\n",
       "      <td>0</td>\n",
       "      <td>0</td>\n",
       "      <td>0</td>\n",
       "      <td>1</td>\n",
       "    </tr>\n",
       "    <tr>\n",
       "      <th>45207</th>\n",
       "      <td>28</td>\n",
       "      <td>29</td>\n",
       "      <td>845</td>\n",
       "      <td>1</td>\n",
       "      <td>9</td>\n",
       "      <td>0</td>\n",
       "      <td>1</td>\n",
       "      <td>0</td>\n",
       "      <td>0</td>\n",
       "      <td>0</td>\n",
       "      <td>...</td>\n",
       "      <td>0</td>\n",
       "      <td>0</td>\n",
       "      <td>0</td>\n",
       "      <td>0</td>\n",
       "      <td>0</td>\n",
       "      <td>1</td>\n",
       "      <td>0</td>\n",
       "      <td>1</td>\n",
       "      <td>0</td>\n",
       "      <td>0</td>\n",
       "    </tr>\n",
       "    <tr>\n",
       "      <th>45208</th>\n",
       "      <td>29</td>\n",
       "      <td>29</td>\n",
       "      <td>271</td>\n",
       "      <td>1</td>\n",
       "      <td>9</td>\n",
       "      <td>0</td>\n",
       "      <td>0</td>\n",
       "      <td>0</td>\n",
       "      <td>0</td>\n",
       "      <td>0</td>\n",
       "      <td>...</td>\n",
       "      <td>0</td>\n",
       "      <td>0</td>\n",
       "      <td>0</td>\n",
       "      <td>0</td>\n",
       "      <td>0</td>\n",
       "      <td>1</td>\n",
       "      <td>0</td>\n",
       "      <td>0</td>\n",
       "      <td>1</td>\n",
       "      <td>0</td>\n",
       "    </tr>\n",
       "    <tr>\n",
       "      <th>45209</th>\n",
       "      <td>43</td>\n",
       "      <td>30</td>\n",
       "      <td>175</td>\n",
       "      <td>1</td>\n",
       "      <td>9</td>\n",
       "      <td>0</td>\n",
       "      <td>0</td>\n",
       "      <td>0</td>\n",
       "      <td>0</td>\n",
       "      <td>1</td>\n",
       "      <td>...</td>\n",
       "      <td>0</td>\n",
       "      <td>0</td>\n",
       "      <td>0</td>\n",
       "      <td>0</td>\n",
       "      <td>1</td>\n",
       "      <td>0</td>\n",
       "      <td>0</td>\n",
       "      <td>0</td>\n",
       "      <td>1</td>\n",
       "      <td>0</td>\n",
       "    </tr>\n",
       "    <tr>\n",
       "      <th>45210</th>\n",
       "      <td>27</td>\n",
       "      <td>30</td>\n",
       "      <td>6</td>\n",
       "      <td>1</td>\n",
       "      <td>9</td>\n",
       "      <td>0</td>\n",
       "      <td>1</td>\n",
       "      <td>0</td>\n",
       "      <td>0</td>\n",
       "      <td>0</td>\n",
       "      <td>...</td>\n",
       "      <td>0</td>\n",
       "      <td>0</td>\n",
       "      <td>0</td>\n",
       "      <td>0</td>\n",
       "      <td>0</td>\n",
       "      <td>1</td>\n",
       "      <td>0</td>\n",
       "      <td>1</td>\n",
       "      <td>0</td>\n",
       "      <td>0</td>\n",
       "    </tr>\n",
       "  </tbody>\n",
       "</table>\n",
       "<p>45211 rows × 23 columns</p>\n",
       "</div>"
      ],
      "text/plain": [
       "       age  day  dur  num_calls  Mon_No  Labeled_call_type  MANAGEMENT  \\\n",
       "0       58    5  261          1       5                  0           1   \n",
       "1       44    5  151          1       5                  0           0   \n",
       "2       33    5   76          1       5                  0           0   \n",
       "3       47    5   92          1       5                  0           0   \n",
       "4       33    5  198          1       5                  0           0   \n",
       "...    ...  ...  ...        ...     ...                ...         ...   \n",
       "45206   67   29  245          3       9                  0           0   \n",
       "45207   28   29  845          1       9                  0           1   \n",
       "45208   29   29  271          1       9                  0           0   \n",
       "45209   43   30  175          1       9                  0           0   \n",
       "45210   27   30    6          1       9                  0           1   \n",
       "\n",
       "       TECHNICIAN  ENTREPRENEUR  BLUE-COLLAR  ...  SELF-EMPLOYED  UNEMPLOYED  \\\n",
       "0               0             0            0  ...              0           0   \n",
       "1               1             0            0  ...              0           0   \n",
       "2               0             1            0  ...              0           0   \n",
       "3               0             0            1  ...              0           0   \n",
       "4               0             0            1  ...              0           0   \n",
       "...           ...           ...          ...  ...            ...         ...   \n",
       "45206           0             0            0  ...              0           0   \n",
       "45207           0             0            0  ...              0           0   \n",
       "45208           0             0            0  ...              0           0   \n",
       "45209           0             0            1  ...              0           0   \n",
       "45210           0             0            0  ...              0           0   \n",
       "\n",
       "       HOUSEMAID  STUDENT  MARRIED  SINGLE  DIVORCED  TERTIARY  SECONDARY  \\\n",
       "0              0        0        1       0         0         1          0   \n",
       "1              0        0        0       1         0         0          1   \n",
       "2              0        0        1       0         0         0          1   \n",
       "3              0        0        1       0         0         0          1   \n",
       "4              0        0        0       1         0         0          1   \n",
       "...          ...      ...      ...     ...       ...       ...        ...   \n",
       "45206          0        0        1       0         0         0          0   \n",
       "45207          0        0        0       1         0         1          0   \n",
       "45208          0        0        0       1         0         0          1   \n",
       "45209          0        0        1       0         0         0          1   \n",
       "45210          0        0        0       1         0         1          0   \n",
       "\n",
       "       PRIMARY  \n",
       "0            0  \n",
       "1            0  \n",
       "2            0  \n",
       "3            0  \n",
       "4            0  \n",
       "...        ...  \n",
       "45206        1  \n",
       "45207        0  \n",
       "45208        0  \n",
       "45209        0  \n",
       "45210        0  \n",
       "\n",
       "[45211 rows x 23 columns]"
      ]
     },
     "execution_count": 50,
     "metadata": {},
     "output_type": "execute_result"
    }
   ],
   "source": [
    "X"
   ]
  },
  {
   "cell_type": "code",
   "execution_count": 51,
   "id": "ef56aebd",
   "metadata": {},
   "outputs": [],
   "source": [
    "# pip install -U scikit-learn"
   ]
  },
  {
   "cell_type": "code",
   "execution_count": 52,
   "id": "fb54f4b4",
   "metadata": {},
   "outputs": [],
   "source": [
    "# Splitting the Data Set\n",
    "\n",
    "from sklearn.model_selection import train_test_split\n",
    "\n",
    "X_train, X_test, Y_train, Y_test = train_test_split(X, Y, test_size=0.2, random_state = 7)"
   ]
  },
  {
   "cell_type": "code",
   "execution_count": 236,
   "id": "14052363",
   "metadata": {},
   "outputs": [
    {
     "data": {
      "text/plain": [
       "array([[-0.69962447,  0.19866028, -0.41479907, ...,  1.82572657,\n",
       "        -0.82479038, -0.31583783],\n",
       "       [-0.69962447, -0.89266757, -0.97430776, ..., -0.54772714,\n",
       "         1.21242927, -0.31583783],\n",
       "       [-1.04094909, -0.40763297, -0.82327474, ..., -0.54772714,\n",
       "         1.21242927, -0.31583783],\n",
       "       ...,\n",
       "       [-0.01697523, -1.01392622, -0.29465917, ...,  1.82572657,\n",
       "        -0.82479038, -0.31583783],\n",
       "       [-0.35829985,  0.07740163, -0.9811729 , ..., -0.54772714,\n",
       "         1.21242927, -0.31583783],\n",
       "       [ 1.00699863,  0.68369488, -0.61388805, ...,  1.82572657,\n",
       "        -0.82479038, -0.31583783]])"
      ]
     },
     "execution_count": 236,
     "metadata": {},
     "output_type": "execute_result"
    }
   ],
   "source": [
    "X_test"
   ]
  },
  {
   "cell_type": "markdown",
   "id": "71c9e347",
   "metadata": {},
   "source": [
    "#### 2. Balancing the Data Set"
   ]
  },
  {
   "cell_type": "code",
   "execution_count": 54,
   "id": "e47b717a",
   "metadata": {},
   "outputs": [
    {
     "data": {
      "text/plain": [
       "0.88"
      ]
     },
     "execution_count": 54,
     "metadata": {},
     "output_type": "execute_result"
    }
   ],
   "source": [
    "Tar_Cnt = df['Labeled_y'].groupby(df['Labeled_y']).count()\n",
    "round(Tar_Cnt[0]/df.shape[0],2)"
   ]
  },
  {
   "cell_type": "markdown",
   "id": "d9ed8b03",
   "metadata": {
    "scrolled": false
   },
   "source": [
    "#### From the above output it is clear that 88 % of the data belongs to class 0 ('no'). This is an imbalanced data.\n",
    "#### Problems of Imbalanced Data:\n",
    "*1. Accuracy Evaluation Metric is bad metric for evaluating imbalanced Problem. We can use AUROC, F1 Score.\n",
    "\n",
    "*2. All the Traditional ML aglorithms will not work well for imbalanced problem since the models are trained on inbalanced data it will focus on the majority class.\n",
    "\n",
    "#### To counter this we need to balance the data using Centroid Clsustering (under sampling) and SMOTE technique (over Sampling)\n"
   ]
  },
  {
   "cell_type": "code",
   "execution_count": 55,
   "id": "02b0dc78",
   "metadata": {},
   "outputs": [],
   "source": [
    "#pip install imblearn"
   ]
  },
  {
   "cell_type": "code",
   "execution_count": 56,
   "id": "ea4a22a1",
   "metadata": {},
   "outputs": [
    {
     "data": {
      "text/plain": [
       "((45211, 23), (45211,), (51761, 23), (51761,))"
      ]
     },
     "execution_count": 56,
     "metadata": {},
     "output_type": "execute_result"
    }
   ],
   "source": [
    "import imblearn\n",
    "from imblearn.combine import SMOTEENN # Combination of oversampling and undersampling\n",
    "\n",
    "smt = SMOTEENN(sampling_strategy='all')\n",
    "X_smt, Y_smt = smt.fit_resample(X_train, Y_train)\n",
    "X.shape,Y.shape,X_smt.shape,Y_smt.shape\n"
   ]
  },
  {
   "cell_type": "markdown",
   "id": "48234b15",
   "metadata": {},
   "source": [
    "#### 3. Scaling the balanced data"
   ]
  },
  {
   "cell_type": "code",
   "execution_count": 57,
   "id": "1f57a72b",
   "metadata": {},
   "outputs": [],
   "source": [
    "# Scaling the Data set \n",
    "\n",
    "from sklearn.preprocessing import StandardScaler\n",
    "scaler = StandardScaler()\n",
    "scaler.fit(X_smt)\n",
    "X_smt = scaler.transform(X_smt)\n",
    "X_test = scaler.transform(X_test)\n"
   ]
  },
  {
   "cell_type": "markdown",
   "id": "a2e93ccf",
   "metadata": {},
   "source": [
    "## This is a Supervised Learning & Classification Task (Target is Catagorical)"
   ]
  },
  {
   "cell_type": "markdown",
   "id": "d4a7d8de",
   "metadata": {},
   "source": [
    "## Model : Logistic Regression, KNN, Decision Tree, Random Forest, XG Boost"
   ]
  },
  {
   "cell_type": "code",
   "execution_count": 58,
   "id": "ff61fd60",
   "metadata": {},
   "outputs": [],
   "source": [
    "# Storing the Evaluation Score of all the Models in the Variable\n",
    "from sklearn.model_selection import cross_val_score # import all the functions reqd for cross validation\n",
    "from sklearn.metrics import roc_auc_score\n",
    "Models = ['Logistic Reg','KNN','Decision tree','Random Forest', 'XG Boost']\n",
    "AUROC_Score = []"
   ]
  },
  {
   "cell_type": "markdown",
   "id": "999ef61c",
   "metadata": {},
   "source": [
    "### *1. Logistic Regression:\n",
    "1. Scaling is not madatory.\n",
    "2. Can find only linear Decsiion Boundries.\n",
    "3. All Features must have linear Decsion Boundries.\n",
    "4. It determines the predicted propability.(hence the name regression)\n",
    "5. Applicable only for binary classification\n",
    "6. Loss Jar - Log loss and its convex function.\n",
    "7. Learning Jar - Gradient Descent will work well as Log loss is a convex Function."
   ]
  },
  {
   "cell_type": "code",
   "execution_count": 59,
   "id": "1b0aebdf",
   "metadata": {},
   "outputs": [
    {
     "data": {
      "text/html": [
       "<style>#sk-container-id-1 {color: black;background-color: white;}#sk-container-id-1 pre{padding: 0;}#sk-container-id-1 div.sk-toggleable {background-color: white;}#sk-container-id-1 label.sk-toggleable__label {cursor: pointer;display: block;width: 100%;margin-bottom: 0;padding: 0.3em;box-sizing: border-box;text-align: center;}#sk-container-id-1 label.sk-toggleable__label-arrow:before {content: \"▸\";float: left;margin-right: 0.25em;color: #696969;}#sk-container-id-1 label.sk-toggleable__label-arrow:hover:before {color: black;}#sk-container-id-1 div.sk-estimator:hover label.sk-toggleable__label-arrow:before {color: black;}#sk-container-id-1 div.sk-toggleable__content {max-height: 0;max-width: 0;overflow: hidden;text-align: left;background-color: #f0f8ff;}#sk-container-id-1 div.sk-toggleable__content pre {margin: 0.2em;color: black;border-radius: 0.25em;background-color: #f0f8ff;}#sk-container-id-1 input.sk-toggleable__control:checked~div.sk-toggleable__content {max-height: 200px;max-width: 100%;overflow: auto;}#sk-container-id-1 input.sk-toggleable__control:checked~label.sk-toggleable__label-arrow:before {content: \"▾\";}#sk-container-id-1 div.sk-estimator input.sk-toggleable__control:checked~label.sk-toggleable__label {background-color: #d4ebff;}#sk-container-id-1 div.sk-label input.sk-toggleable__control:checked~label.sk-toggleable__label {background-color: #d4ebff;}#sk-container-id-1 input.sk-hidden--visually {border: 0;clip: rect(1px 1px 1px 1px);clip: rect(1px, 1px, 1px, 1px);height: 1px;margin: -1px;overflow: hidden;padding: 0;position: absolute;width: 1px;}#sk-container-id-1 div.sk-estimator {font-family: monospace;background-color: #f0f8ff;border: 1px dotted black;border-radius: 0.25em;box-sizing: border-box;margin-bottom: 0.5em;}#sk-container-id-1 div.sk-estimator:hover {background-color: #d4ebff;}#sk-container-id-1 div.sk-parallel-item::after {content: \"\";width: 100%;border-bottom: 1px solid gray;flex-grow: 1;}#sk-container-id-1 div.sk-label:hover label.sk-toggleable__label {background-color: #d4ebff;}#sk-container-id-1 div.sk-serial::before {content: \"\";position: absolute;border-left: 1px solid gray;box-sizing: border-box;top: 0;bottom: 0;left: 50%;z-index: 0;}#sk-container-id-1 div.sk-serial {display: flex;flex-direction: column;align-items: center;background-color: white;padding-right: 0.2em;padding-left: 0.2em;position: relative;}#sk-container-id-1 div.sk-item {position: relative;z-index: 1;}#sk-container-id-1 div.sk-parallel {display: flex;align-items: stretch;justify-content: center;background-color: white;position: relative;}#sk-container-id-1 div.sk-item::before, #sk-container-id-1 div.sk-parallel-item::before {content: \"\";position: absolute;border-left: 1px solid gray;box-sizing: border-box;top: 0;bottom: 0;left: 50%;z-index: -1;}#sk-container-id-1 div.sk-parallel-item {display: flex;flex-direction: column;z-index: 1;position: relative;background-color: white;}#sk-container-id-1 div.sk-parallel-item:first-child::after {align-self: flex-end;width: 50%;}#sk-container-id-1 div.sk-parallel-item:last-child::after {align-self: flex-start;width: 50%;}#sk-container-id-1 div.sk-parallel-item:only-child::after {width: 0;}#sk-container-id-1 div.sk-dashed-wrapped {border: 1px dashed gray;margin: 0 0.4em 0.5em 0.4em;box-sizing: border-box;padding-bottom: 0.4em;background-color: white;}#sk-container-id-1 div.sk-label label {font-family: monospace;font-weight: bold;display: inline-block;line-height: 1.2em;}#sk-container-id-1 div.sk-label-container {text-align: center;}#sk-container-id-1 div.sk-container {/* jupyter's `normalize.less` sets `[hidden] { display: none; }` but bootstrap.min.css set `[hidden] { display: none !important; }` so we also need the `!important` here to be able to override the default hidden behavior on the sphinx rendered scikit-learn.org. See: https://github.com/scikit-learn/scikit-learn/issues/21755 */display: inline-block !important;position: relative;}#sk-container-id-1 div.sk-text-repr-fallback {display: none;}</style><div id=\"sk-container-id-1\" class=\"sk-top-container\"><div class=\"sk-text-repr-fallback\"><pre>LogisticRegression(random_state=1)</pre><b>In a Jupyter environment, please rerun this cell to show the HTML representation or trust the notebook. <br />On GitHub, the HTML representation is unable to render, please try loading this page with nbviewer.org.</b></div><div class=\"sk-container\" hidden><div class=\"sk-item\"><div class=\"sk-estimator sk-toggleable\"><input class=\"sk-toggleable__control sk-hidden--visually\" id=\"sk-estimator-id-1\" type=\"checkbox\" checked><label for=\"sk-estimator-id-1\" class=\"sk-toggleable__label sk-toggleable__label-arrow\">LogisticRegression</label><div class=\"sk-toggleable__content\"><pre>LogisticRegression(random_state=1)</pre></div></div></div></div></div>"
      ],
      "text/plain": [
       "LogisticRegression(random_state=1)"
      ]
     },
     "execution_count": 59,
     "metadata": {},
     "output_type": "execute_result"
    }
   ],
   "source": [
    "# Fitting the Model\n",
    "\n",
    "from sklearn.linear_model import LogisticRegression\n",
    "\n",
    "LR = LogisticRegression(random_state=1)\n",
    "\n",
    "LR.fit(X_smt, Y_smt) # Training the Model using Gradient descent Approach\n"
   ]
  },
  {
   "cell_type": "code",
   "execution_count": 60,
   "id": "6486b81e",
   "metadata": {},
   "outputs": [
    {
     "data": {
      "text/plain": [
       "0.712"
      ]
     },
     "execution_count": 60,
     "metadata": {},
     "output_type": "execute_result"
    }
   ],
   "source": [
    "# Predicting the Result\n",
    "\n",
    "LR_Pred = LR.predict(X_test)\n",
    "LR_Score = round(roc_auc_score(Y_test, LR_Pred),3)\n",
    "AUROC_Score.append(LR_Score)\n",
    "LR_Score"
   ]
  },
  {
   "cell_type": "markdown",
   "id": "24f019a5",
   "metadata": {},
   "source": [
    "### *2. KNN Algorithm:\n",
    "1. Scaling is madatory since it uses Distance to predict.\n",
    "2. K - Hyperparameter (We need to find the best value for K)\n",
    "3. There is no Parameter for KNN.\n",
    "4. Since there is no Parameter there is no Loss Jar & Learning Jar"
   ]
  },
  {
   "cell_type": "code",
   "execution_count": 61,
   "id": "0fd1a31b",
   "metadata": {
    "scrolled": true
   },
   "outputs": [
    {
     "name": "stdout",
     "output_type": "stream",
     "text": [
      "Optimal K Value :  3 with CV Score -  0.941\n",
      "[0.938, 0.939, 0.941, 0.939, 0.94, 0.937, 0.938, 0.936, 0.937, 0.934]\n"
     ]
    }
   ],
   "source": [
    "from sklearn.neighbors import KNeighborsClassifier \n",
    "CV_Scores = []\n",
    "\n",
    "#Hyper Parameter Tuning (Finding the best value for K)\n",
    "for i in range(1,11):\n",
    "  knn = KNeighborsClassifier(n_neighbors=i) #it will initialise the model with @neighbours as k \n",
    "  knn.fit(X_smt, Y_smt) # train the model\n",
    "  CV_Scores.append(round(np.mean(cross_val_score(knn, X_smt, Y_smt, cv=10)),3))\n",
    "K = CV_Scores.index(max(CV_Scores))+ 1\n",
    "print(\"Optimal K Value : \",K,\"with CV Score - \",max(CV_Scores))\n",
    "print(CV_Scores)\n"
   ]
  },
  {
   "cell_type": "code",
   "execution_count": 62,
   "id": "54ee5488",
   "metadata": {},
   "outputs": [
    {
     "data": {
      "text/html": [
       "<style>#sk-container-id-2 {color: black;background-color: white;}#sk-container-id-2 pre{padding: 0;}#sk-container-id-2 div.sk-toggleable {background-color: white;}#sk-container-id-2 label.sk-toggleable__label {cursor: pointer;display: block;width: 100%;margin-bottom: 0;padding: 0.3em;box-sizing: border-box;text-align: center;}#sk-container-id-2 label.sk-toggleable__label-arrow:before {content: \"▸\";float: left;margin-right: 0.25em;color: #696969;}#sk-container-id-2 label.sk-toggleable__label-arrow:hover:before {color: black;}#sk-container-id-2 div.sk-estimator:hover label.sk-toggleable__label-arrow:before {color: black;}#sk-container-id-2 div.sk-toggleable__content {max-height: 0;max-width: 0;overflow: hidden;text-align: left;background-color: #f0f8ff;}#sk-container-id-2 div.sk-toggleable__content pre {margin: 0.2em;color: black;border-radius: 0.25em;background-color: #f0f8ff;}#sk-container-id-2 input.sk-toggleable__control:checked~div.sk-toggleable__content {max-height: 200px;max-width: 100%;overflow: auto;}#sk-container-id-2 input.sk-toggleable__control:checked~label.sk-toggleable__label-arrow:before {content: \"▾\";}#sk-container-id-2 div.sk-estimator input.sk-toggleable__control:checked~label.sk-toggleable__label {background-color: #d4ebff;}#sk-container-id-2 div.sk-label input.sk-toggleable__control:checked~label.sk-toggleable__label {background-color: #d4ebff;}#sk-container-id-2 input.sk-hidden--visually {border: 0;clip: rect(1px 1px 1px 1px);clip: rect(1px, 1px, 1px, 1px);height: 1px;margin: -1px;overflow: hidden;padding: 0;position: absolute;width: 1px;}#sk-container-id-2 div.sk-estimator {font-family: monospace;background-color: #f0f8ff;border: 1px dotted black;border-radius: 0.25em;box-sizing: border-box;margin-bottom: 0.5em;}#sk-container-id-2 div.sk-estimator:hover {background-color: #d4ebff;}#sk-container-id-2 div.sk-parallel-item::after {content: \"\";width: 100%;border-bottom: 1px solid gray;flex-grow: 1;}#sk-container-id-2 div.sk-label:hover label.sk-toggleable__label {background-color: #d4ebff;}#sk-container-id-2 div.sk-serial::before {content: \"\";position: absolute;border-left: 1px solid gray;box-sizing: border-box;top: 0;bottom: 0;left: 50%;z-index: 0;}#sk-container-id-2 div.sk-serial {display: flex;flex-direction: column;align-items: center;background-color: white;padding-right: 0.2em;padding-left: 0.2em;position: relative;}#sk-container-id-2 div.sk-item {position: relative;z-index: 1;}#sk-container-id-2 div.sk-parallel {display: flex;align-items: stretch;justify-content: center;background-color: white;position: relative;}#sk-container-id-2 div.sk-item::before, #sk-container-id-2 div.sk-parallel-item::before {content: \"\";position: absolute;border-left: 1px solid gray;box-sizing: border-box;top: 0;bottom: 0;left: 50%;z-index: -1;}#sk-container-id-2 div.sk-parallel-item {display: flex;flex-direction: column;z-index: 1;position: relative;background-color: white;}#sk-container-id-2 div.sk-parallel-item:first-child::after {align-self: flex-end;width: 50%;}#sk-container-id-2 div.sk-parallel-item:last-child::after {align-self: flex-start;width: 50%;}#sk-container-id-2 div.sk-parallel-item:only-child::after {width: 0;}#sk-container-id-2 div.sk-dashed-wrapped {border: 1px dashed gray;margin: 0 0.4em 0.5em 0.4em;box-sizing: border-box;padding-bottom: 0.4em;background-color: white;}#sk-container-id-2 div.sk-label label {font-family: monospace;font-weight: bold;display: inline-block;line-height: 1.2em;}#sk-container-id-2 div.sk-label-container {text-align: center;}#sk-container-id-2 div.sk-container {/* jupyter's `normalize.less` sets `[hidden] { display: none; }` but bootstrap.min.css set `[hidden] { display: none !important; }` so we also need the `!important` here to be able to override the default hidden behavior on the sphinx rendered scikit-learn.org. See: https://github.com/scikit-learn/scikit-learn/issues/21755 */display: inline-block !important;position: relative;}#sk-container-id-2 div.sk-text-repr-fallback {display: none;}</style><div id=\"sk-container-id-2\" class=\"sk-top-container\"><div class=\"sk-text-repr-fallback\"><pre>KNeighborsClassifier(n_neighbors=3)</pre><b>In a Jupyter environment, please rerun this cell to show the HTML representation or trust the notebook. <br />On GitHub, the HTML representation is unable to render, please try loading this page with nbviewer.org.</b></div><div class=\"sk-container\" hidden><div class=\"sk-item\"><div class=\"sk-estimator sk-toggleable\"><input class=\"sk-toggleable__control sk-hidden--visually\" id=\"sk-estimator-id-2\" type=\"checkbox\" checked><label for=\"sk-estimator-id-2\" class=\"sk-toggleable__label sk-toggleable__label-arrow\">KNeighborsClassifier</label><div class=\"sk-toggleable__content\"><pre>KNeighborsClassifier(n_neighbors=3)</pre></div></div></div></div></div>"
      ],
      "text/plain": [
       "KNeighborsClassifier(n_neighbors=3)"
      ]
     },
     "execution_count": 62,
     "metadata": {},
     "output_type": "execute_result"
    }
   ],
   "source": [
    "# Fitting the Model with best K value\n",
    "knn = KNeighborsClassifier(n_neighbors=K) \n",
    "knn.fit(X_smt, Y_smt) # train the model\n"
   ]
  },
  {
   "cell_type": "code",
   "execution_count": 185,
   "id": "4be33ecb",
   "metadata": {},
   "outputs": [
    {
     "data": {
      "text/plain": [
       "0.712"
      ]
     },
     "execution_count": 185,
     "metadata": {},
     "output_type": "execute_result"
    }
   ],
   "source": [
    "KNN_pred = LR.predict(X_test)\n",
    "KNN_Score = round(roc_auc_score(Y_test, KNN_pred),3)\n",
    "AUROC_Score.append(KNN_Score)\n",
    "KNN_Score"
   ]
  },
  {
   "cell_type": "markdown",
   "id": "f5182978",
   "metadata": {},
   "source": [
    "### *3. Decision Tree Algorithm:\n",
    "1. Scaling is not madatory.\n",
    "2. It is Binary Tree Model.\n",
    "3. Loss Jar is Entropy (lower the entropy better the result)\n",
    "4. depth of the Tree - Hyperparameter (We need to find the best value for depth)"
   ]
  },
  {
   "cell_type": "code",
   "execution_count": 111,
   "id": "5c0f49cc",
   "metadata": {},
   "outputs": [
    {
     "name": "stdout",
     "output_type": "stream",
     "text": [
      "Optimal Depth Value :  10 with CV Score -  0.919\n",
      "[0.797, 0.797, 0.832, 0.847, 0.863, 0.874, 0.881, 0.903, 0.913, 0.919]\n"
     ]
    }
   ],
   "source": [
    "# Finding Best value for depth\n",
    "from sklearn.tree import DecisionTreeClassifier\n",
    "# Hyperparametr tuning to get optimal depth\n",
    "CV_Scores = []\n",
    "\n",
    "for depth in range(1, 11):\n",
    "  dt = DecisionTreeClassifier(max_depth=depth,random_state = 1) # will tell the DT to not grow past the given threhsold\n",
    "  # Fit dt to the training set\n",
    "  dt.fit(X_smt, Y_smt) # the model is trained\n",
    "  valAccuracy = cross_val_score(dt, X_smt, Y_smt, cv=10) # syntax : cross_val_Score(freshModel,fts, target, cv= 10/5)\n",
    "  CV_Scores.append(round(np.mean(valAccuracy),3))\n",
    "D = CV_Scores.index(max(CV_Scores))+ 1\n",
    "print(\"Optimal Depth Value : \",D,\"with CV Score - \",max(CV_Scores))\n",
    "print(CV_Scores)\n"
   ]
  },
  {
   "cell_type": "code",
   "execution_count": 153,
   "id": "b8298d96",
   "metadata": {},
   "outputs": [
    {
     "data": {
      "text/html": [
       "<style>#sk-container-id-13 {color: black;background-color: white;}#sk-container-id-13 pre{padding: 0;}#sk-container-id-13 div.sk-toggleable {background-color: white;}#sk-container-id-13 label.sk-toggleable__label {cursor: pointer;display: block;width: 100%;margin-bottom: 0;padding: 0.3em;box-sizing: border-box;text-align: center;}#sk-container-id-13 label.sk-toggleable__label-arrow:before {content: \"▸\";float: left;margin-right: 0.25em;color: #696969;}#sk-container-id-13 label.sk-toggleable__label-arrow:hover:before {color: black;}#sk-container-id-13 div.sk-estimator:hover label.sk-toggleable__label-arrow:before {color: black;}#sk-container-id-13 div.sk-toggleable__content {max-height: 0;max-width: 0;overflow: hidden;text-align: left;background-color: #f0f8ff;}#sk-container-id-13 div.sk-toggleable__content pre {margin: 0.2em;color: black;border-radius: 0.25em;background-color: #f0f8ff;}#sk-container-id-13 input.sk-toggleable__control:checked~div.sk-toggleable__content {max-height: 200px;max-width: 100%;overflow: auto;}#sk-container-id-13 input.sk-toggleable__control:checked~label.sk-toggleable__label-arrow:before {content: \"▾\";}#sk-container-id-13 div.sk-estimator input.sk-toggleable__control:checked~label.sk-toggleable__label {background-color: #d4ebff;}#sk-container-id-13 div.sk-label input.sk-toggleable__control:checked~label.sk-toggleable__label {background-color: #d4ebff;}#sk-container-id-13 input.sk-hidden--visually {border: 0;clip: rect(1px 1px 1px 1px);clip: rect(1px, 1px, 1px, 1px);height: 1px;margin: -1px;overflow: hidden;padding: 0;position: absolute;width: 1px;}#sk-container-id-13 div.sk-estimator {font-family: monospace;background-color: #f0f8ff;border: 1px dotted black;border-radius: 0.25em;box-sizing: border-box;margin-bottom: 0.5em;}#sk-container-id-13 div.sk-estimator:hover {background-color: #d4ebff;}#sk-container-id-13 div.sk-parallel-item::after {content: \"\";width: 100%;border-bottom: 1px solid gray;flex-grow: 1;}#sk-container-id-13 div.sk-label:hover label.sk-toggleable__label {background-color: #d4ebff;}#sk-container-id-13 div.sk-serial::before {content: \"\";position: absolute;border-left: 1px solid gray;box-sizing: border-box;top: 0;bottom: 0;left: 50%;z-index: 0;}#sk-container-id-13 div.sk-serial {display: flex;flex-direction: column;align-items: center;background-color: white;padding-right: 0.2em;padding-left: 0.2em;position: relative;}#sk-container-id-13 div.sk-item {position: relative;z-index: 1;}#sk-container-id-13 div.sk-parallel {display: flex;align-items: stretch;justify-content: center;background-color: white;position: relative;}#sk-container-id-13 div.sk-item::before, #sk-container-id-13 div.sk-parallel-item::before {content: \"\";position: absolute;border-left: 1px solid gray;box-sizing: border-box;top: 0;bottom: 0;left: 50%;z-index: -1;}#sk-container-id-13 div.sk-parallel-item {display: flex;flex-direction: column;z-index: 1;position: relative;background-color: white;}#sk-container-id-13 div.sk-parallel-item:first-child::after {align-self: flex-end;width: 50%;}#sk-container-id-13 div.sk-parallel-item:last-child::after {align-self: flex-start;width: 50%;}#sk-container-id-13 div.sk-parallel-item:only-child::after {width: 0;}#sk-container-id-13 div.sk-dashed-wrapped {border: 1px dashed gray;margin: 0 0.4em 0.5em 0.4em;box-sizing: border-box;padding-bottom: 0.4em;background-color: white;}#sk-container-id-13 div.sk-label label {font-family: monospace;font-weight: bold;display: inline-block;line-height: 1.2em;}#sk-container-id-13 div.sk-label-container {text-align: center;}#sk-container-id-13 div.sk-container {/* jupyter's `normalize.less` sets `[hidden] { display: none; }` but bootstrap.min.css set `[hidden] { display: none !important; }` so we also need the `!important` here to be able to override the default hidden behavior on the sphinx rendered scikit-learn.org. See: https://github.com/scikit-learn/scikit-learn/issues/21755 */display: inline-block !important;position: relative;}#sk-container-id-13 div.sk-text-repr-fallback {display: none;}</style><div id=\"sk-container-id-13\" class=\"sk-top-container\"><div class=\"sk-text-repr-fallback\"><pre>DecisionTreeClassifier(max_depth=10, random_state=1)</pre><b>In a Jupyter environment, please rerun this cell to show the HTML representation or trust the notebook. <br />On GitHub, the HTML representation is unable to render, please try loading this page with nbviewer.org.</b></div><div class=\"sk-container\" hidden><div class=\"sk-item\"><div class=\"sk-estimator sk-toggleable\"><input class=\"sk-toggleable__control sk-hidden--visually\" id=\"sk-estimator-id-13\" type=\"checkbox\" checked><label for=\"sk-estimator-id-13\" class=\"sk-toggleable__label sk-toggleable__label-arrow\">DecisionTreeClassifier</label><div class=\"sk-toggleable__content\"><pre>DecisionTreeClassifier(max_depth=10, random_state=1)</pre></div></div></div></div></div>"
      ],
      "text/plain": [
       "DecisionTreeClassifier(max_depth=10, random_state=1)"
      ]
     },
     "execution_count": 153,
     "metadata": {},
     "output_type": "execute_result"
    }
   ],
   "source": [
    "# Fitting the Model with best Depth value\n",
    "DT = DecisionTreeClassifier(max_depth=D,random_state = 1) \n",
    "dt.fit(X_smt, Y_smt) # train the model\n"
   ]
  },
  {
   "cell_type": "code",
   "execution_count": 186,
   "id": "cad1e185",
   "metadata": {},
   "outputs": [
    {
     "data": {
      "text/plain": [
       "0.755"
      ]
     },
     "execution_count": 186,
     "metadata": {},
     "output_type": "execute_result"
    }
   ],
   "source": [
    "DT_Pred = dt.predict(X_test)\n",
    "DT_Score = round(roc_auc_score(Y_test, DT_Pred),3)\n",
    "AUROC_Score.append(DT_Score)\n",
    "DT_Score"
   ]
  },
  {
   "cell_type": "code",
   "execution_count": 79,
   "id": "d5bd53aa",
   "metadata": {},
   "outputs": [
    {
     "data": {
      "text/plain": [
       "[('age', 0.032667720358162164),\n",
       " ('day', 0.03912333462808369),\n",
       " ('dur', 0.5679285033942197),\n",
       " ('num_calls', 0.03758774806336747),\n",
       " ('Mon_No', 0.05534288085573318),\n",
       " ('Labeled_call_type', 0.0011159108908180716),\n",
       " ('MANAGEMENT', 0.025469246516047),\n",
       " ('TECHNICIAN', 0.024063099965231042),\n",
       " ('ENTREPRENEUR', 0.014087545711635677),\n",
       " ('BLUE-COLLAR', 0.06558745404306718),\n",
       " ('RETIRED', 0.000298436189950584),\n",
       " ('ADMIN.', 0.022184001084248683),\n",
       " ('SERVICES', 0.0261984311510073),\n",
       " ('SELF-EMPLOYED', 0.010946813311039793),\n",
       " ('UNEMPLOYED', 0.009397198507324987),\n",
       " ('HOUSEMAID', 2.230884676504416e-05),\n",
       " ('STUDENT', 0.0001565689259237424),\n",
       " ('MARRIED', 0.00675163491251155),\n",
       " ('SINGLE', 0.0036996407977931806),\n",
       " ('DIVORCED', 0.0038111630364943893),\n",
       " ('TERTIARY', 0.019714434931999765),\n",
       " ('SECONDARY', 0.020079616953829132),\n",
       " ('PRIMARY', 0.01376630692474651)]"
      ]
     },
     "execution_count": 79,
     "metadata": {},
     "output_type": "execute_result"
    }
   ],
   "source": [
    "importance = dt.feature_importances_\n",
    "\n",
    "list(zip(X_train.columns,importance)) # it calculates the feature importances based on IG"
   ]
  },
  {
   "cell_type": "markdown",
   "id": "351cdee7",
   "metadata": {},
   "source": [
    "### Ensemble Technique Models: Random Forest, XG-Boost\n",
    "##### (Models that combine multiple ML algorithms are called Ensemble Technique Models)\n",
    "### *4. Random Forest Model:\n",
    "1. It Combines Multiple Decision Tree Algorithm for better Result.\n",
    "2. It Uses Concept of Bagging (Boot Strap Aggregation) to eliminate the dependency of the data in each sub Models.\n",
    "3. Bagging Concept is the technique to Sample the data with Replacement.\n",
    "4. By Bagging we will create Multiple Samples from the Training Data and Train Each Samples with a ML Model.\n",
    "5. The Most repeated prediction of the Models is considered as the final Class \n",
    "6. Max depth is given as Log base 2 of No of Features & Max features = Sqrt of no of Features to conter the overfitting"
   ]
  },
  {
   "cell_type": "code",
   "execution_count": 188,
   "id": "251bba46",
   "metadata": {},
   "outputs": [
    {
     "data": {
      "text/plain": [
       "0.764"
      ]
     },
     "execution_count": 188,
     "metadata": {},
     "output_type": "execute_result"
    }
   ],
   "source": [
    "from sklearn.ensemble import RandomForestClassifier\n",
    "import math\n",
    "RF_Depth = int(round(math.log2(len(X_train.columns)),0))\n",
    "RF = RandomForestClassifier(n_estimators= 100, max_depth = RF_Depth, max_features='sqrt',random_state = 1)\n",
    "RF.fit(X_smt, Y_smt) # Training\n",
    "RF_Pred = RF.predict(X_test)\n",
    "RF_Score = round(roc_auc_score(Y_test, RF_Pred),3)\n",
    "AUROC_Score.append(RF_Score)\n",
    "RF_Score\n"
   ]
  },
  {
   "cell_type": "code",
   "execution_count": 142,
   "id": "8cf05310",
   "metadata": {},
   "outputs": [
    {
     "data": {
      "text/plain": [
       "[('age', 0.02585453162333904),\n",
       " ('day', 0.00378997009131292),\n",
       " ('dur', 0.49728521475026655),\n",
       " ('num_calls', 0.048379447722644804),\n",
       " ('Mon_No', 0.01648139953992187),\n",
       " ('Labeled_call_type', 0.0014582546306967663),\n",
       " ('MANAGEMENT', 0.030602245106356684),\n",
       " ('TECHNICIAN', 0.03190126574049888),\n",
       " ('ENTREPRENEUR', 0.003515485205812674),\n",
       " ('BLUE-COLLAR', 0.05910239659884007),\n",
       " ('RETIRED', 0.0018596581869781983),\n",
       " ('ADMIN.', 0.02094667824894676),\n",
       " ('SERVICES', 0.01635336311513347),\n",
       " ('SELF-EMPLOYED', 0.0025490861676566753),\n",
       " ('UNEMPLOYED', 0.0009720964819845107),\n",
       " ('HOUSEMAID', 0.0021056600175458824),\n",
       " ('STUDENT', 0.00010256686248134481),\n",
       " ('MARRIED', 0.05283360247056419),\n",
       " ('SINGLE', 0.013658770012547679),\n",
       " ('DIVORCED', 0.0162706505238483),\n",
       " ('TERTIARY', 0.02338268514354097),\n",
       " ('SECONDARY', 0.07249809948181947),\n",
       " ('PRIMARY', 0.058096872277262505)]"
      ]
     },
     "execution_count": 142,
     "metadata": {},
     "output_type": "execute_result"
    }
   ],
   "source": [
    "importance = RF.feature_importances_\n",
    "\n",
    "list(zip(X_train.columns,importance)) # it calculates the feature importances based on IG"
   ]
  },
  {
   "cell_type": "markdown",
   "id": "f2ceb683",
   "metadata": {},
   "source": [
    "### *5. XG-Boost Model:\n",
    "1. It uses the concept of Gradient Boosting with multiple Decision Trees\n",
    "2. In Boosting the models are created one after the other so that the models will improve over the previous model\n",
    "\n",
    "Ref- https://towardsdatascience.com/beginners-guide-to-xgboost-for-classification-problems-50f75aac5390"
   ]
  },
  {
   "cell_type": "code",
   "execution_count": 159,
   "id": "46b0e35e",
   "metadata": {
    "collapsed": true
   },
   "outputs": [
    {
     "name": "stdout",
     "output_type": "stream",
     "text": [
      "Collecting xgboostNote: you may need to restart the kernel to use updated packages.\n",
      "\n",
      "  Downloading xgboost-1.7.4-py3-none-win_amd64.whl (89.1 MB)\n",
      "     ---------------------------------------- 0.0/89.1 MB ? eta -:--:--\n",
      "     ---------------------------------------- 1.1/89.1 MB 23.6 MB/s eta 0:00:04\n",
      "     - -------------------------------------- 3.1/89.1 MB 33.1 MB/s eta 0:00:03\n",
      "     -- ------------------------------------- 4.9/89.1 MB 35.3 MB/s eta 0:00:03\n",
      "     -- ------------------------------------- 6.3/89.1 MB 36.6 MB/s eta 0:00:03\n",
      "     --- ------------------------------------ 7.8/89.1 MB 33.1 MB/s eta 0:00:03\n",
      "     ---- ----------------------------------- 9.4/89.1 MB 33.4 MB/s eta 0:00:03\n",
      "     ---- ---------------------------------- 10.9/89.1 MB 34.4 MB/s eta 0:00:03\n",
      "     ----- --------------------------------- 12.3/89.1 MB 32.7 MB/s eta 0:00:03\n",
      "     ----- --------------------------------- 13.0/89.1 MB 29.8 MB/s eta 0:00:03\n",
      "     ------ -------------------------------- 14.5/89.1 MB 29.8 MB/s eta 0:00:03\n",
      "     ------ -------------------------------- 16.0/89.1 MB 29.7 MB/s eta 0:00:03\n",
      "     ------- ------------------------------- 17.2/89.1 MB 31.2 MB/s eta 0:00:03\n",
      "     -------- ------------------------------ 18.3/89.1 MB 27.3 MB/s eta 0:00:03\n",
      "     -------- ------------------------------ 19.2/89.1 MB 26.2 MB/s eta 0:00:03\n",
      "     -------- ------------------------------ 20.4/89.1 MB 25.1 MB/s eta 0:00:03\n",
      "     --------- ----------------------------- 22.2/89.1 MB 26.2 MB/s eta 0:00:03\n",
      "     ---------- ---------------------------- 23.3/89.1 MB 27.3 MB/s eta 0:00:03\n",
      "     ---------- ---------------------------- 24.8/89.1 MB 27.3 MB/s eta 0:00:03\n",
      "     ----------- --------------------------- 26.2/89.1 MB 27.3 MB/s eta 0:00:03\n",
      "     ------------ -------------------------- 27.7/89.1 MB 28.5 MB/s eta 0:00:03\n",
      "     ------------ -------------------------- 29.2/89.1 MB 29.7 MB/s eta 0:00:03\n",
      "     ------------- ------------------------- 30.6/89.1 MB 29.7 MB/s eta 0:00:02\n",
      "     ------------- ------------------------- 31.7/89.1 MB 28.4 MB/s eta 0:00:03\n",
      "     -------------- ------------------------ 32.5/89.1 MB 27.3 MB/s eta 0:00:03\n",
      "     -------------- ------------------------ 33.3/89.1 MB 26.2 MB/s eta 0:00:03\n",
      "     -------------- ------------------------ 34.1/89.1 MB 25.2 MB/s eta 0:00:03\n",
      "     --------------- ----------------------- 34.9/89.1 MB 24.2 MB/s eta 0:00:03\n",
      "     --------------- ----------------------- 35.8/89.1 MB 22.6 MB/s eta 0:00:03\n",
      "     ---------------- ---------------------- 36.7/89.1 MB 22.6 MB/s eta 0:00:03\n",
      "     ---------------- ---------------------- 37.6/89.1 MB 21.8 MB/s eta 0:00:03\n",
      "     ---------------- ---------------------- 38.4/89.1 MB 21.1 MB/s eta 0:00:03\n",
      "     ----------------- --------------------- 39.3/89.1 MB 19.8 MB/s eta 0:00:03\n",
      "     ----------------- --------------------- 40.3/89.1 MB 19.8 MB/s eta 0:00:03\n",
      "     ----------------- --------------------- 41.1/89.1 MB 19.2 MB/s eta 0:00:03\n",
      "     ------------------ -------------------- 41.8/89.1 MB 18.7 MB/s eta 0:00:03\n",
      "     ------------------ -------------------- 42.5/89.1 MB 18.2 MB/s eta 0:00:03\n",
      "     ------------------ -------------------- 43.3/89.1 MB 18.2 MB/s eta 0:00:03\n",
      "     ------------------- ------------------- 44.1/89.1 MB 18.2 MB/s eta 0:00:03\n",
      "     ------------------- ------------------- 44.9/89.1 MB 18.2 MB/s eta 0:00:03\n",
      "     -------------------- ------------------ 45.7/89.1 MB 18.2 MB/s eta 0:00:03\n",
      "     -------------------- ------------------ 46.5/89.1 MB 17.7 MB/s eta 0:00:03\n",
      "     -------------------- ------------------ 47.4/89.1 MB 17.7 MB/s eta 0:00:03\n",
      "     --------------------- ----------------- 48.2/89.1 MB 17.7 MB/s eta 0:00:03\n",
      "     --------------------- ----------------- 49.0/89.1 MB 17.7 MB/s eta 0:00:03\n",
      "     --------------------- ----------------- 50.0/89.1 MB 17.7 MB/s eta 0:00:03\n",
      "     ---------------------- ---------------- 50.9/89.1 MB 17.7 MB/s eta 0:00:03\n",
      "     ---------------------- ---------------- 51.9/89.1 MB 18.2 MB/s eta 0:00:03\n",
      "     ----------------------- --------------- 52.8/89.1 MB 18.7 MB/s eta 0:00:02\n",
      "     ----------------------- --------------- 53.8/89.1 MB 18.7 MB/s eta 0:00:02\n",
      "     ----------------------- --------------- 54.8/89.1 MB 19.2 MB/s eta 0:00:02\n",
      "     ------------------------ -------------- 55.9/89.1 MB 19.8 MB/s eta 0:00:02\n",
      "     ------------------------ -------------- 56.9/89.1 MB 20.5 MB/s eta 0:00:02\n",
      "     ------------------------- ------------- 57.9/89.1 MB 21.1 MB/s eta 0:00:02\n",
      "     ------------------------- ------------- 58.9/89.1 MB 21.1 MB/s eta 0:00:02\n",
      "     -------------------------- ------------ 59.9/89.1 MB 21.1 MB/s eta 0:00:02\n",
      "     -------------------------- ------------ 60.9/89.1 MB 21.8 MB/s eta 0:00:02\n",
      "     --------------------------- ----------- 62.0/89.1 MB 21.8 MB/s eta 0:00:02\n",
      "     --------------------------- ----------- 63.1/89.1 MB 22.6 MB/s eta 0:00:02\n",
      "     ---------------------------- ---------- 64.1/89.1 MB 22.5 MB/s eta 0:00:02\n",
      "     ---------------------------- ---------- 65.1/89.1 MB 22.6 MB/s eta 0:00:02\n",
      "     ---------------------------- ---------- 66.2/89.1 MB 22.6 MB/s eta 0:00:02\n",
      "     ----------------------------- --------- 67.3/89.1 MB 22.6 MB/s eta 0:00:01\n",
      "     ----------------------------- --------- 68.4/89.1 MB 22.6 MB/s eta 0:00:01\n",
      "     ------------------------------ -------- 69.5/89.1 MB 23.4 MB/s eta 0:00:01\n",
      "     ------------------------------ -------- 70.8/89.1 MB 23.4 MB/s eta 0:00:01\n",
      "     ------------------------------- ------- 72.1/89.1 MB 24.2 MB/s eta 0:00:01\n",
      "     ------------------------------- ------- 72.9/89.1 MB 23.4 MB/s eta 0:00:01\n",
      "     -------------------------------- ------ 73.8/89.1 MB 23.4 MB/s eta 0:00:01\n",
      "     -------------------------------- ------ 75.0/89.1 MB 23.4 MB/s eta 0:00:01\n",
      "     --------------------------------- ----- 76.1/89.1 MB 23.4 MB/s eta 0:00:01\n",
      "     --------------------------------- ----- 77.4/89.1 MB 24.2 MB/s eta 0:00:01\n",
      "     ---------------------------------- ---- 78.3/89.1 MB 23.4 MB/s eta 0:00:01\n",
      "     ---------------------------------- ---- 79.3/89.1 MB 23.4 MB/s eta 0:00:01\n",
      "     ----------------------------------- --- 80.3/89.1 MB 22.6 MB/s eta 0:00:01\n",
      "     ----------------------------------- --- 81.3/89.1 MB 22.5 MB/s eta 0:00:01\n",
      "     ----------------------------------- --- 82.2/89.1 MB 21.9 MB/s eta 0:00:01\n",
      "     ------------------------------------ -- 83.3/89.1 MB 22.6 MB/s eta 0:00:01\n",
      "     ------------------------------------ -- 84.4/89.1 MB 22.6 MB/s eta 0:00:01\n",
      "     ------------------------------------- - 85.3/89.1 MB 21.8 MB/s eta 0:00:01\n",
      "     ------------------------------------- - 85.9/89.1 MB 21.1 MB/s eta 0:00:01\n",
      "     ------------------------------------- - 86.6/89.1 MB 20.5 MB/s eta 0:00:01\n",
      "     --------------------------------------  87.4/89.1 MB 19.8 MB/s eta 0:00:01\n",
      "     --------------------------------------  88.2/89.1 MB 19.2 MB/s eta 0:00:01\n",
      "     --------------------------------------  89.1/89.1 MB 19.3 MB/s eta 0:00:01\n",
      "     --------------------------------------  89.1/89.1 MB 19.3 MB/s eta 0:00:01\n",
      "     --------------------------------------  89.1/89.1 MB 19.3 MB/s eta 0:00:01\n",
      "     --------------------------------------  89.1/89.1 MB 19.3 MB/s eta 0:00:01\n",
      "     --------------------------------------  89.1/89.1 MB 19.3 MB/s eta 0:00:01\n",
      "     --------------------------------------  89.1/89.1 MB 19.3 MB/s eta 0:00:01\n",
      "     --------------------------------------  89.1/89.1 MB 19.3 MB/s eta 0:00:01\n",
      "     --------------------------------------  89.1/89.1 MB 19.3 MB/s eta 0:00:01\n",
      "     --------------------------------------- 89.1/89.1 MB 10.6 MB/s eta 0:00:00\n",
      "Requirement already satisfied: numpy in c:\\users\\ranga\\appdata\\local\\programs\\python\\python311\\lib\\site-packages (from xgboost) (1.24.2)\n",
      "Requirement already satisfied: scipy in c:\\users\\ranga\\appdata\\local\\programs\\python\\python311\\lib\\site-packages (from xgboost) (1.10.1)\n",
      "Installing collected packages: xgboost\n",
      "Successfully installed xgboost-1.7.4\n"
     ]
    }
   ],
   "source": [
    "pip install xgboost"
   ]
  },
  {
   "cell_type": "code",
   "execution_count": null,
   "id": "cc4ce190",
   "metadata": {
    "scrolled": true
   },
   "outputs": [],
   "source": [
    "import xgboost as xgb\n",
    "\n",
    "# Hyperparametr tuning to get best learning rate\n",
    "CV_Scores = []\n",
    "LR_List = np.arange(0.01, 0.21, 0.01)\n",
    "\n",
    "for i in LR_List:\n",
    "    xgb_cl = xgb.XGBClassifier(learning_rate = i, max_depth=RF_Depth,random_state = 1,n_estimators= 100)\n",
    "    xgb_cl.fit(X_smt, Y_smt) # the model is trained\n",
    "    valAccuracy = cross_val_score(xgb_cl, X_smt, Y_smt, cv=10) # syntax : cross_val_Score(freshModel,fts, target, cv= 10/5)\n",
    "    CV_Scores.append(round(np.mean(valAccuracy),3))\n",
    "    print(i)\n"
   ]
  },
  {
   "cell_type": "code",
   "execution_count": 173,
   "id": "83d538b8",
   "metadata": {},
   "outputs": [
    {
     "name": "stdout",
     "output_type": "stream",
     "text": [
      "Optimal Leraning Rate :  0.2 with CV Score -  0.955\n",
      "[0.883, 0.904, 0.922, 0.933, 0.939, 0.941, 0.944, 0.947, 0.948, 0.949, 0.95, 0.951, 0.952, 0.952, 0.952, 0.953, 0.953, 0.954, 0.954, 0.955]\n"
     ]
    }
   ],
   "source": [
    "Lr = LR_List[CV_Scores.index(max(CV_Scores))]\n",
    "print(\"Optimal Leraning Rate : \",Lr,\"with CV Score - \",max(CV_Scores))\n",
    "print(CV_Scores)\n"
   ]
  },
  {
   "cell_type": "code",
   "execution_count": 196,
   "id": "22a081cf",
   "metadata": {},
   "outputs": [
    {
     "data": {
      "text/html": [
       "<style>#sk-container-id-18 {color: black;background-color: white;}#sk-container-id-18 pre{padding: 0;}#sk-container-id-18 div.sk-toggleable {background-color: white;}#sk-container-id-18 label.sk-toggleable__label {cursor: pointer;display: block;width: 100%;margin-bottom: 0;padding: 0.3em;box-sizing: border-box;text-align: center;}#sk-container-id-18 label.sk-toggleable__label-arrow:before {content: \"▸\";float: left;margin-right: 0.25em;color: #696969;}#sk-container-id-18 label.sk-toggleable__label-arrow:hover:before {color: black;}#sk-container-id-18 div.sk-estimator:hover label.sk-toggleable__label-arrow:before {color: black;}#sk-container-id-18 div.sk-toggleable__content {max-height: 0;max-width: 0;overflow: hidden;text-align: left;background-color: #f0f8ff;}#sk-container-id-18 div.sk-toggleable__content pre {margin: 0.2em;color: black;border-radius: 0.25em;background-color: #f0f8ff;}#sk-container-id-18 input.sk-toggleable__control:checked~div.sk-toggleable__content {max-height: 200px;max-width: 100%;overflow: auto;}#sk-container-id-18 input.sk-toggleable__control:checked~label.sk-toggleable__label-arrow:before {content: \"▾\";}#sk-container-id-18 div.sk-estimator input.sk-toggleable__control:checked~label.sk-toggleable__label {background-color: #d4ebff;}#sk-container-id-18 div.sk-label input.sk-toggleable__control:checked~label.sk-toggleable__label {background-color: #d4ebff;}#sk-container-id-18 input.sk-hidden--visually {border: 0;clip: rect(1px 1px 1px 1px);clip: rect(1px, 1px, 1px, 1px);height: 1px;margin: -1px;overflow: hidden;padding: 0;position: absolute;width: 1px;}#sk-container-id-18 div.sk-estimator {font-family: monospace;background-color: #f0f8ff;border: 1px dotted black;border-radius: 0.25em;box-sizing: border-box;margin-bottom: 0.5em;}#sk-container-id-18 div.sk-estimator:hover {background-color: #d4ebff;}#sk-container-id-18 div.sk-parallel-item::after {content: \"\";width: 100%;border-bottom: 1px solid gray;flex-grow: 1;}#sk-container-id-18 div.sk-label:hover label.sk-toggleable__label {background-color: #d4ebff;}#sk-container-id-18 div.sk-serial::before {content: \"\";position: absolute;border-left: 1px solid gray;box-sizing: border-box;top: 0;bottom: 0;left: 50%;z-index: 0;}#sk-container-id-18 div.sk-serial {display: flex;flex-direction: column;align-items: center;background-color: white;padding-right: 0.2em;padding-left: 0.2em;position: relative;}#sk-container-id-18 div.sk-item {position: relative;z-index: 1;}#sk-container-id-18 div.sk-parallel {display: flex;align-items: stretch;justify-content: center;background-color: white;position: relative;}#sk-container-id-18 div.sk-item::before, #sk-container-id-18 div.sk-parallel-item::before {content: \"\";position: absolute;border-left: 1px solid gray;box-sizing: border-box;top: 0;bottom: 0;left: 50%;z-index: -1;}#sk-container-id-18 div.sk-parallel-item {display: flex;flex-direction: column;z-index: 1;position: relative;background-color: white;}#sk-container-id-18 div.sk-parallel-item:first-child::after {align-self: flex-end;width: 50%;}#sk-container-id-18 div.sk-parallel-item:last-child::after {align-self: flex-start;width: 50%;}#sk-container-id-18 div.sk-parallel-item:only-child::after {width: 0;}#sk-container-id-18 div.sk-dashed-wrapped {border: 1px dashed gray;margin: 0 0.4em 0.5em 0.4em;box-sizing: border-box;padding-bottom: 0.4em;background-color: white;}#sk-container-id-18 div.sk-label label {font-family: monospace;font-weight: bold;display: inline-block;line-height: 1.2em;}#sk-container-id-18 div.sk-label-container {text-align: center;}#sk-container-id-18 div.sk-container {/* jupyter's `normalize.less` sets `[hidden] { display: none; }` but bootstrap.min.css set `[hidden] { display: none !important; }` so we also need the `!important` here to be able to override the default hidden behavior on the sphinx rendered scikit-learn.org. See: https://github.com/scikit-learn/scikit-learn/issues/21755 */display: inline-block !important;position: relative;}#sk-container-id-18 div.sk-text-repr-fallback {display: none;}</style><div id=\"sk-container-id-18\" class=\"sk-top-container\"><div class=\"sk-text-repr-fallback\"><pre>XGBClassifier(base_score=None, booster=None, callbacks=None,\n",
       "              colsample_bylevel=None, colsample_bynode=None,\n",
       "              colsample_bytree=None, early_stopping_rounds=None,\n",
       "              enable_categorical=False, eval_metric=None, feature_types=None,\n",
       "              gamma=None, gpu_id=None, grow_policy=None, importance_type=None,\n",
       "              interaction_constraints=None, learning_rate=0.2, max_bin=None,\n",
       "              max_cat_threshold=None, max_cat_to_onehot=None,\n",
       "              max_delta_step=None, max_depth=5, max_leaves=None,\n",
       "              min_child_weight=None, missing=nan, monotone_constraints=None,\n",
       "              n_estimators=100, n_jobs=None, num_parallel_tree=None,\n",
       "              predictor=None, random_state=1, ...)</pre><b>In a Jupyter environment, please rerun this cell to show the HTML representation or trust the notebook. <br />On GitHub, the HTML representation is unable to render, please try loading this page with nbviewer.org.</b></div><div class=\"sk-container\" hidden><div class=\"sk-item\"><div class=\"sk-estimator sk-toggleable\"><input class=\"sk-toggleable__control sk-hidden--visually\" id=\"sk-estimator-id-18\" type=\"checkbox\" checked><label for=\"sk-estimator-id-18\" class=\"sk-toggleable__label sk-toggleable__label-arrow\">XGBClassifier</label><div class=\"sk-toggleable__content\"><pre>XGBClassifier(base_score=None, booster=None, callbacks=None,\n",
       "              colsample_bylevel=None, colsample_bynode=None,\n",
       "              colsample_bytree=None, early_stopping_rounds=None,\n",
       "              enable_categorical=False, eval_metric=None, feature_types=None,\n",
       "              gamma=None, gpu_id=None, grow_policy=None, importance_type=None,\n",
       "              interaction_constraints=None, learning_rate=0.2, max_bin=None,\n",
       "              max_cat_threshold=None, max_cat_to_onehot=None,\n",
       "              max_delta_step=None, max_depth=5, max_leaves=None,\n",
       "              min_child_weight=None, missing=nan, monotone_constraints=None,\n",
       "              n_estimators=100, n_jobs=None, num_parallel_tree=None,\n",
       "              predictor=None, random_state=1, ...)</pre></div></div></div></div></div>"
      ],
      "text/plain": [
       "XGBClassifier(base_score=None, booster=None, callbacks=None,\n",
       "              colsample_bylevel=None, colsample_bynode=None,\n",
       "              colsample_bytree=None, early_stopping_rounds=None,\n",
       "              enable_categorical=False, eval_metric=None, feature_types=None,\n",
       "              gamma=None, gpu_id=None, grow_policy=None, importance_type=None,\n",
       "              interaction_constraints=None, learning_rate=0.2, max_bin=None,\n",
       "              max_cat_threshold=None, max_cat_to_onehot=None,\n",
       "              max_delta_step=None, max_depth=5, max_leaves=None,\n",
       "              min_child_weight=None, missing=nan, monotone_constraints=None,\n",
       "              n_estimators=100, n_jobs=None, num_parallel_tree=None,\n",
       "              predictor=None, random_state=1, ...)"
      ]
     },
     "execution_count": 196,
     "metadata": {},
     "output_type": "execute_result"
    }
   ],
   "source": [
    "# Fitting the with best learning rate \n",
    "xgb_cl = xgb.XGBClassifier(learning_rate = Lr, max_depth=RF_Depth,random_state = 1,n_estimators= 100)\n",
    "xgb_cl.fit(X_smt, Y_smt) # Training\n"
   ]
  },
  {
   "cell_type": "code",
   "execution_count": 202,
   "id": "6cf2c89d",
   "metadata": {},
   "outputs": [
    {
     "data": {
      "text/plain": [
       "0.799"
      ]
     },
     "execution_count": 202,
     "metadata": {},
     "output_type": "execute_result"
    }
   ],
   "source": [
    "XGB_Pred = xgb_cl.predict(X_test)\n",
    "XGB_Score = round(roc_auc_score(Y_test, XGB_Pred),3)\n",
    "AUROC_Score.append(XGB_Score)\n",
    "XGB_Score\n"
   ]
  },
  {
   "cell_type": "markdown",
   "id": "e754559d",
   "metadata": {},
   "source": [
    "### Comparing the AUROC score of all the models"
   ]
  },
  {
   "cell_type": "code",
   "execution_count": 215,
   "id": "9e325ca9",
   "metadata": {},
   "outputs": [
    {
     "data": {
      "text/html": [
       "<div>\n",
       "<style scoped>\n",
       "    .dataframe tbody tr th:only-of-type {\n",
       "        vertical-align: middle;\n",
       "    }\n",
       "\n",
       "    .dataframe tbody tr th {\n",
       "        vertical-align: top;\n",
       "    }\n",
       "\n",
       "    .dataframe thead th {\n",
       "        text-align: right;\n",
       "    }\n",
       "</style>\n",
       "<table border=\"1\" class=\"dataframe\">\n",
       "  <thead>\n",
       "    <tr style=\"text-align: right;\">\n",
       "      <th></th>\n",
       "      <th>Model</th>\n",
       "      <th>AUROC Score</th>\n",
       "    </tr>\n",
       "  </thead>\n",
       "  <tbody>\n",
       "    <tr>\n",
       "      <th>0</th>\n",
       "      <td>Logistic Reg</td>\n",
       "      <td>0.712</td>\n",
       "    </tr>\n",
       "    <tr>\n",
       "      <th>1</th>\n",
       "      <td>KNN</td>\n",
       "      <td>0.712</td>\n",
       "    </tr>\n",
       "    <tr>\n",
       "      <th>2</th>\n",
       "      <td>Decision tree</td>\n",
       "      <td>0.755</td>\n",
       "    </tr>\n",
       "    <tr>\n",
       "      <th>3</th>\n",
       "      <td>Random Forest</td>\n",
       "      <td>0.764</td>\n",
       "    </tr>\n",
       "    <tr>\n",
       "      <th>4</th>\n",
       "      <td>XG Boost</td>\n",
       "      <td>0.799</td>\n",
       "    </tr>\n",
       "  </tbody>\n",
       "</table>\n",
       "</div>"
      ],
      "text/plain": [
       "           Model  AUROC Score\n",
       "0   Logistic Reg        0.712\n",
       "1            KNN        0.712\n",
       "2  Decision tree        0.755\n",
       "3  Random Forest        0.764\n",
       "4       XG Boost        0.799"
      ]
     },
     "execution_count": 215,
     "metadata": {},
     "output_type": "execute_result"
    }
   ],
   "source": [
    "Scores = {\"Model\" :Models,\"AUROC Score\":AUROC_Score}\n",
    "Score_DF = pd.DataFrame(Scores)\n",
    "Score_DF = Score_DF.sort_values(by = 'AUROC Score',ascending=True)\n",
    "Score_DF"
   ]
  },
  {
   "cell_type": "code",
   "execution_count": 240,
   "id": "41e12074",
   "metadata": {},
   "outputs": [
    {
     "data": {
      "text/plain": [
       "Text(0.5, 0, 'AUROC Score')"
      ]
     },
     "execution_count": 240,
     "metadata": {},
     "output_type": "execute_result"
    },
    {
     "data": {
      "image/png": "[encoded data removed]",
      "text/plain": [
       "<Figure size 640x480 with 1 Axes>"
      ]
     },
     "metadata": {},
     "output_type": "display_data"
    }
   ],
   "source": [
    "Score_DF.plot(kind='barh',y='AUROC Score',x='Model',color='b')\n",
    "plt.legend().remove()\n",
    "plt.xlabel('AUROC Score')"
   ]
  },
  {
   "cell_type": "markdown",
   "id": "b4f1d65e",
   "metadata": {},
   "source": [
    "#### From the Above chart it is clear that the best model for this Data is XG Boost with AUROC Score of 0.799"
   ]
  },
  {
   "cell_type": "code",
   "execution_count": 230,
   "id": "161b3b5e",
   "metadata": {},
   "outputs": [
    {
     "data": {
      "text/html": [
       "<div>\n",
       "<style scoped>\n",
       "    .dataframe tbody tr th:only-of-type {\n",
       "        vertical-align: middle;\n",
       "    }\n",
       "\n",
       "    .dataframe tbody tr th {\n",
       "        vertical-align: top;\n",
       "    }\n",
       "\n",
       "    .dataframe thead th {\n",
       "        text-align: right;\n",
       "    }\n",
       "</style>\n",
       "<table border=\"1\" class=\"dataframe\">\n",
       "  <thead>\n",
       "    <tr style=\"text-align: right;\">\n",
       "      <th></th>\n",
       "      <th>Feature</th>\n",
       "      <th>Importance</th>\n",
       "    </tr>\n",
       "  </thead>\n",
       "  <tbody>\n",
       "    <tr>\n",
       "      <th>20</th>\n",
       "      <td>TERTIARY</td>\n",
       "      <td>0.129138</td>\n",
       "    </tr>\n",
       "    <tr>\n",
       "      <th>9</th>\n",
       "      <td>BLUE-COLLAR</td>\n",
       "      <td>0.105765</td>\n",
       "    </tr>\n",
       "    <tr>\n",
       "      <th>18</th>\n",
       "      <td>SINGLE</td>\n",
       "      <td>0.082821</td>\n",
       "    </tr>\n",
       "    <tr>\n",
       "      <th>2</th>\n",
       "      <td>dur</td>\n",
       "      <td>0.073170</td>\n",
       "    </tr>\n",
       "    <tr>\n",
       "      <th>19</th>\n",
       "      <td>DIVORCED</td>\n",
       "      <td>0.070165</td>\n",
       "    </tr>\n",
       "    <tr>\n",
       "      <th>21</th>\n",
       "      <td>SECONDARY</td>\n",
       "      <td>0.054791</td>\n",
       "    </tr>\n",
       "    <tr>\n",
       "      <th>7</th>\n",
       "      <td>TECHNICIAN</td>\n",
       "      <td>0.054120</td>\n",
       "    </tr>\n",
       "    <tr>\n",
       "      <th>12</th>\n",
       "      <td>SERVICES</td>\n",
       "      <td>0.053045</td>\n",
       "    </tr>\n",
       "    <tr>\n",
       "      <th>22</th>\n",
       "      <td>PRIMARY</td>\n",
       "      <td>0.047305</td>\n",
       "    </tr>\n",
       "    <tr>\n",
       "      <th>6</th>\n",
       "      <td>MANAGEMENT</td>\n",
       "      <td>0.040093</td>\n",
       "    </tr>\n",
       "    <tr>\n",
       "      <th>3</th>\n",
       "      <td>num_calls</td>\n",
       "      <td>0.038322</td>\n",
       "    </tr>\n",
       "    <tr>\n",
       "      <th>11</th>\n",
       "      <td>ADMIN.</td>\n",
       "      <td>0.038260</td>\n",
       "    </tr>\n",
       "    <tr>\n",
       "      <th>17</th>\n",
       "      <td>MARRIED</td>\n",
       "      <td>0.034413</td>\n",
       "    </tr>\n",
       "    <tr>\n",
       "      <th>13</th>\n",
       "      <td>SELF-EMPLOYED</td>\n",
       "      <td>0.033158</td>\n",
       "    </tr>\n",
       "    <tr>\n",
       "      <th>8</th>\n",
       "      <td>ENTREPRENEUR</td>\n",
       "      <td>0.032616</td>\n",
       "    </tr>\n",
       "    <tr>\n",
       "      <th>14</th>\n",
       "      <td>UNEMPLOYED</td>\n",
       "      <td>0.023223</td>\n",
       "    </tr>\n",
       "    <tr>\n",
       "      <th>15</th>\n",
       "      <td>HOUSEMAID</td>\n",
       "      <td>0.020325</td>\n",
       "    </tr>\n",
       "    <tr>\n",
       "      <th>4</th>\n",
       "      <td>Mon_No</td>\n",
       "      <td>0.016945</td>\n",
       "    </tr>\n",
       "    <tr>\n",
       "      <th>10</th>\n",
       "      <td>RETIRED</td>\n",
       "      <td>0.015502</td>\n",
       "    </tr>\n",
       "    <tr>\n",
       "      <th>0</th>\n",
       "      <td>age</td>\n",
       "      <td>0.012599</td>\n",
       "    </tr>\n",
       "    <tr>\n",
       "      <th>16</th>\n",
       "      <td>STUDENT</td>\n",
       "      <td>0.011180</td>\n",
       "    </tr>\n",
       "    <tr>\n",
       "      <th>1</th>\n",
       "      <td>day</td>\n",
       "      <td>0.009213</td>\n",
       "    </tr>\n",
       "    <tr>\n",
       "      <th>5</th>\n",
       "      <td>Labeled_call_type</td>\n",
       "      <td>0.003831</td>\n",
       "    </tr>\n",
       "  </tbody>\n",
       "</table>\n",
       "</div>"
      ],
      "text/plain": [
       "              Feature  Importance\n",
       "20           TERTIARY    0.129138\n",
       "9         BLUE-COLLAR    0.105765\n",
       "18             SINGLE    0.082821\n",
       "2                 dur    0.073170\n",
       "19           DIVORCED    0.070165\n",
       "21          SECONDARY    0.054791\n",
       "7          TECHNICIAN    0.054120\n",
       "12           SERVICES    0.053045\n",
       "22            PRIMARY    0.047305\n",
       "6          MANAGEMENT    0.040093\n",
       "3           num_calls    0.038322\n",
       "11             ADMIN.    0.038260\n",
       "17            MARRIED    0.034413\n",
       "13      SELF-EMPLOYED    0.033158\n",
       "8        ENTREPRENEUR    0.032616\n",
       "14         UNEMPLOYED    0.023223\n",
       "15          HOUSEMAID    0.020325\n",
       "4              Mon_No    0.016945\n",
       "10            RETIRED    0.015502\n",
       "0                 age    0.012599\n",
       "16            STUDENT    0.011180\n",
       "1                 day    0.009213\n",
       "5   Labeled_call_type    0.003831"
      ]
     },
     "execution_count": 230,
     "metadata": {},
     "output_type": "execute_result"
    }
   ],
   "source": [
    "importance = xgb_cl.feature_importances_\n",
    "Ftr_Importance = pd.DataFrame(list(zip(X_train.columns,importance)),columns=['Feature','Importance'])\n",
    "Ftr_Importance.sort_values(by = 'Importance',ascending = False)"
   ]
  },
  {
   "cell_type": "markdown",
   "id": "e920f1b6",
   "metadata": {},
   "source": [
    "#### As mentioned earlier \"Call Type\" is having very least importance and next to it is \"day\" Feature.\n",
    "#### Importance of both the feature is almost \"0\"\n",
    "#### Let us re-run the XG-Boost model by removing those Feature"
   ]
  },
  {
   "cell_type": "code",
   "execution_count": 237,
   "id": "b6ce702a",
   "metadata": {},
   "outputs": [
    {
     "data": {
      "text/html": [
       "<div>\n",
       "<style scoped>\n",
       "    .dataframe tbody tr th:only-of-type {\n",
       "        vertical-align: middle;\n",
       "    }\n",
       "\n",
       "    .dataframe tbody tr th {\n",
       "        vertical-align: top;\n",
       "    }\n",
       "\n",
       "    .dataframe thead th {\n",
       "        text-align: right;\n",
       "    }\n",
       "</style>\n",
       "<table border=\"1\" class=\"dataframe\">\n",
       "  <thead>\n",
       "    <tr style=\"text-align: right;\">\n",
       "      <th></th>\n",
       "      <th>age</th>\n",
       "      <th>dur</th>\n",
       "      <th>num_calls</th>\n",
       "      <th>Mon_No</th>\n",
       "      <th>MANAGEMENT</th>\n",
       "      <th>TECHNICIAN</th>\n",
       "      <th>ENTREPRENEUR</th>\n",
       "      <th>BLUE-COLLAR</th>\n",
       "      <th>RETIRED</th>\n",
       "      <th>ADMIN.</th>\n",
       "      <th>...</th>\n",
       "      <th>SELF-EMPLOYED</th>\n",
       "      <th>UNEMPLOYED</th>\n",
       "      <th>HOUSEMAID</th>\n",
       "      <th>STUDENT</th>\n",
       "      <th>MARRIED</th>\n",
       "      <th>SINGLE</th>\n",
       "      <th>DIVORCED</th>\n",
       "      <th>TERTIARY</th>\n",
       "      <th>SECONDARY</th>\n",
       "      <th>PRIMARY</th>\n",
       "    </tr>\n",
       "  </thead>\n",
       "  <tbody>\n",
       "    <tr>\n",
       "      <th>0</th>\n",
       "      <td>58</td>\n",
       "      <td>261</td>\n",
       "      <td>1</td>\n",
       "      <td>5</td>\n",
       "      <td>1</td>\n",
       "      <td>0</td>\n",
       "      <td>0</td>\n",
       "      <td>0</td>\n",
       "      <td>0</td>\n",
       "      <td>0</td>\n",
       "      <td>...</td>\n",
       "      <td>0</td>\n",
       "      <td>0</td>\n",
       "      <td>0</td>\n",
       "      <td>0</td>\n",
       "      <td>1</td>\n",
       "      <td>0</td>\n",
       "      <td>0</td>\n",
       "      <td>1</td>\n",
       "      <td>0</td>\n",
       "      <td>0</td>\n",
       "    </tr>\n",
       "    <tr>\n",
       "      <th>1</th>\n",
       "      <td>44</td>\n",
       "      <td>151</td>\n",
       "      <td>1</td>\n",
       "      <td>5</td>\n",
       "      <td>0</td>\n",
       "      <td>1</td>\n",
       "      <td>0</td>\n",
       "      <td>0</td>\n",
       "      <td>0</td>\n",
       "      <td>0</td>\n",
       "      <td>...</td>\n",
       "      <td>0</td>\n",
       "      <td>0</td>\n",
       "      <td>0</td>\n",
       "      <td>0</td>\n",
       "      <td>0</td>\n",
       "      <td>1</td>\n",
       "      <td>0</td>\n",
       "      <td>0</td>\n",
       "      <td>1</td>\n",
       "      <td>0</td>\n",
       "    </tr>\n",
       "    <tr>\n",
       "      <th>2</th>\n",
       "      <td>33</td>\n",
       "      <td>76</td>\n",
       "      <td>1</td>\n",
       "      <td>5</td>\n",
       "      <td>0</td>\n",
       "      <td>0</td>\n",
       "      <td>1</td>\n",
       "      <td>0</td>\n",
       "      <td>0</td>\n",
       "      <td>0</td>\n",
       "      <td>...</td>\n",
       "      <td>0</td>\n",
       "      <td>0</td>\n",
       "      <td>0</td>\n",
       "      <td>0</td>\n",
       "      <td>1</td>\n",
       "      <td>0</td>\n",
       "      <td>0</td>\n",
       "      <td>0</td>\n",
       "      <td>1</td>\n",
       "      <td>0</td>\n",
       "    </tr>\n",
       "    <tr>\n",
       "      <th>3</th>\n",
       "      <td>47</td>\n",
       "      <td>92</td>\n",
       "      <td>1</td>\n",
       "      <td>5</td>\n",
       "      <td>0</td>\n",
       "      <td>0</td>\n",
       "      <td>0</td>\n",
       "      <td>1</td>\n",
       "      <td>0</td>\n",
       "      <td>0</td>\n",
       "      <td>...</td>\n",
       "      <td>0</td>\n",
       "      <td>0</td>\n",
       "      <td>0</td>\n",
       "      <td>0</td>\n",
       "      <td>1</td>\n",
       "      <td>0</td>\n",
       "      <td>0</td>\n",
       "      <td>0</td>\n",
       "      <td>1</td>\n",
       "      <td>0</td>\n",
       "    </tr>\n",
       "    <tr>\n",
       "      <th>4</th>\n",
       "      <td>33</td>\n",
       "      <td>198</td>\n",
       "      <td>1</td>\n",
       "      <td>5</td>\n",
       "      <td>0</td>\n",
       "      <td>0</td>\n",
       "      <td>0</td>\n",
       "      <td>1</td>\n",
       "      <td>0</td>\n",
       "      <td>0</td>\n",
       "      <td>...</td>\n",
       "      <td>0</td>\n",
       "      <td>0</td>\n",
       "      <td>0</td>\n",
       "      <td>0</td>\n",
       "      <td>0</td>\n",
       "      <td>1</td>\n",
       "      <td>0</td>\n",
       "      <td>0</td>\n",
       "      <td>1</td>\n",
       "      <td>0</td>\n",
       "    </tr>\n",
       "  </tbody>\n",
       "</table>\n",
       "<p>5 rows × 21 columns</p>\n",
       "</div>"
      ],
      "text/plain": [
       "   age  dur  num_calls  Mon_No  MANAGEMENT  TECHNICIAN  ENTREPRENEUR  \\\n",
       "0   58  261          1       5           1           0             0   \n",
       "1   44  151          1       5           0           1             0   \n",
       "2   33   76          1       5           0           0             1   \n",
       "3   47   92          1       5           0           0             0   \n",
       "4   33  198          1       5           0           0             0   \n",
       "\n",
       "   BLUE-COLLAR  RETIRED  ADMIN.  ...  SELF-EMPLOYED  UNEMPLOYED  HOUSEMAID  \\\n",
       "0            0        0       0  ...              0           0          0   \n",
       "1            0        0       0  ...              0           0          0   \n",
       "2            0        0       0  ...              0           0          0   \n",
       "3            1        0       0  ...              0           0          0   \n",
       "4            1        0       0  ...              0           0          0   \n",
       "\n",
       "   STUDENT  MARRIED  SINGLE  DIVORCED  TERTIARY  SECONDARY  PRIMARY  \n",
       "0        0        1       0         0         1          0        0  \n",
       "1        0        0       1         0         0          1        0  \n",
       "2        0        1       0         0         0          1        0  \n",
       "3        0        1       0         0         0          1        0  \n",
       "4        0        0       1         0         0          1        0  \n",
       "\n",
       "[5 rows x 21 columns]"
      ]
     },
     "execution_count": 237,
     "metadata": {},
     "output_type": "execute_result"
    }
   ],
   "source": [
    "X = X.drop(['Labeled_call_type','day'],axis = 1)\n",
    "X.head(5)"
   ]
  },
  {
   "cell_type": "code",
   "execution_count": 238,
   "id": "ca3f4777",
   "metadata": {},
   "outputs": [
    {
     "data": {
      "text/plain": [
       "0.794"
      ]
     },
     "execution_count": 238,
     "metadata": {},
     "output_type": "execute_result"
    }
   ],
   "source": [
    "# Spliting the Data\n",
    "\n",
    "from sklearn.model_selection import train_test_split\n",
    "\n",
    "X_train, X_test, Y_train, Y_test = train_test_split(X, Y, test_size=0.2, random_state = 7)\n",
    "\n",
    "# Balancing the Data\n",
    "\n",
    "smt = SMOTEENN(sampling_strategy='all')\n",
    "X_smt, Y_smt = smt.fit_resample(X_train, Y_train)\n",
    "X.shape,Y.shape,X_smt.shape,Y_smt.shape\n",
    "\n",
    "#Scaling the data\n",
    "\n",
    "scaler.fit(X_smt)\n",
    "X_smt = scaler.transform(X_smt)\n",
    "X_test = scaler.transform(X_test)\n",
    "\n",
    "# Training the data using XG-BOOST Model\n",
    "xgb_cl = xgb.XGBClassifier(learning_rate = Lr, max_depth=RF_Depth,random_state = 1,n_estimators= 100)\n",
    "xgb_cl.fit(X_smt, Y_smt) # Training\n",
    "\n",
    "# Predciting & Evaluating the Model\n",
    "\n",
    "XGB_Pred = xgb_cl.predict(X_test)\n",
    "XGB_Score = round(roc_auc_score(Y_test, XGB_Pred),3)\n"
   ]
  },
  {
   "cell_type": "code",
   "execution_count": 239,
   "id": "c4ec2342",
   "metadata": {},
   "outputs": [
    {
     "name": "stdout",
     "output_type": "stream",
     "text": [
      "The Final AUROC Score for the Model is :  0.794\n"
     ]
    }
   ],
   "source": [
    "print(\"The Final AUROC Score for the Model is : \", XGB_Score)"
   ]
  },
  {
   "cell_type": "markdown",
   "id": "afe2e663",
   "metadata": {},
   "source": [
    "## Final Inference:\n",
    "#### The best model for the given Data Set is XG-Boost Model.\n",
    "#### \"Call Type & Day\" Feature are not important\n",
    "#### The Final AUROC Score attained for the Model is ***\"0.794\"***"
   ]
  }
 ],
 "metadata": {
  "kernelspec": {
   "display_name": "Python 3 (ipykernel)",
   "language": "python",
   "name": "python3"
  },
  "language_info": {
   "codemirror_mode": {
    "name": "ipython",
    "version": 3
   },
   "file_extension": ".py",
   "mimetype": "text/x-python",
   "name": "python",
   "nbconvert_exporter": "python",
   "pygments_lexer": "ipython3",
   "version": "3.11.2"
  }
 },
 "nbformat": 4,
 "nbformat_minor": 5
}
